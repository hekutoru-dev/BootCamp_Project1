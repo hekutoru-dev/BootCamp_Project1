{
 "cells": [
  {
   "cell_type": "markdown",
   "metadata": {},
   "source": [
    "#  Operating Stations in Mexico City\n",
    "\n",
    "Using the extracted data from Dirección de Monitoreo Atmosférico del Gobierno de CDMX, we get the stations that are operating in Mexico City, their locations and the code name.\n"
   ]
  },
  {
   "cell_type": "code",
   "execution_count": 1,
   "metadata": {
    "collapsed": true
   },
   "outputs": [],
   "source": [
    "# Dependencies.\n",
    "import pandas as pd\n",
    "import csv"
   ]
  },
  {
   "cell_type": "code",
   "execution_count": 2,
   "metadata": {},
   "outputs": [
    {
     "data": {
      "text/html": [
       "<div>\n",
       "<style>\n",
       "    .dataframe thead tr:only-child th {\n",
       "        text-align: right;\n",
       "    }\n",
       "\n",
       "    .dataframe thead th {\n",
       "        text-align: left;\n",
       "    }\n",
       "\n",
       "    .dataframe tbody tr th {\n",
       "        vertical-align: top;\n",
       "    }\n",
       "</style>\n",
       "<table border=\"1\" class=\"dataframe\">\n",
       "  <thead>\n",
       "    <tr style=\"text-align: right;\">\n",
       "      <th></th>\n",
       "      <th>cve_estac</th>\n",
       "      <th>nom_estac</th>\n",
       "      <th>longitud</th>\n",
       "      <th>latitud</th>\n",
       "      <th>alt</th>\n",
       "      <th>obs_estac</th>\n",
       "      <th>id_station</th>\n",
       "      <th>Ciudad</th>\n",
       "      <th>Municipio</th>\n",
       "    </tr>\n",
       "  </thead>\n",
       "  <tbody>\n",
       "    <tr>\n",
       "      <th>0</th>\n",
       "      <td>ACO</td>\n",
       "      <td>Acolman</td>\n",
       "      <td>-98.912003</td>\n",
       "      <td>19.635501</td>\n",
       "      <td>2198.0</td>\n",
       "      <td>NaN</td>\n",
       "      <td>4.840000e+11</td>\n",
       "      <td>Estado de Mexico</td>\n",
       "      <td>Valle de Mexico</td>\n",
       "    </tr>\n",
       "    <tr>\n",
       "      <th>1</th>\n",
       "      <td>AJU</td>\n",
       "      <td>Ajusco</td>\n",
       "      <td>-99.162611</td>\n",
       "      <td>19.154286</td>\n",
       "      <td>2942.0</td>\n",
       "      <td>NaN</td>\n",
       "      <td>4.840000e+11</td>\n",
       "      <td>Ciudad de Mexico</td>\n",
       "      <td>Tlalpan</td>\n",
       "    </tr>\n",
       "    <tr>\n",
       "      <th>2</th>\n",
       "      <td>AJM</td>\n",
       "      <td>Ajusco Medio</td>\n",
       "      <td>-99.207744</td>\n",
       "      <td>19.272161</td>\n",
       "      <td>2548.0</td>\n",
       "      <td>NaN</td>\n",
       "      <td>4.840000e+11</td>\n",
       "      <td>Ciudad de Mexico</td>\n",
       "      <td>Tlalpan</td>\n",
       "    </tr>\n",
       "    <tr>\n",
       "      <th>3</th>\n",
       "      <td>ARA</td>\n",
       "      <td>Aragón</td>\n",
       "      <td>-99.074549</td>\n",
       "      <td>19.470218</td>\n",
       "      <td>2200.0</td>\n",
       "      <td>Finalizó operación en 2010</td>\n",
       "      <td>4.840000e+11</td>\n",
       "      <td>Ciudad de Mexico</td>\n",
       "      <td>Gustavo A Madero</td>\n",
       "    </tr>\n",
       "    <tr>\n",
       "      <th>4</th>\n",
       "      <td>ATI</td>\n",
       "      <td>Atizapan</td>\n",
       "      <td>-99.254133</td>\n",
       "      <td>19.576963</td>\n",
       "      <td>2341.0</td>\n",
       "      <td>NaN</td>\n",
       "      <td>4.840000e+11</td>\n",
       "      <td>Estado de Mexico</td>\n",
       "      <td>Atizapan de Zaragoza</td>\n",
       "    </tr>\n",
       "  </tbody>\n",
       "</table>\n",
       "</div>"
      ],
      "text/plain": [
       "  cve_estac     nom_estac   longitud    latitud     alt  \\\n",
       "0       ACO       Acolman -98.912003  19.635501  2198.0   \n",
       "1       AJU        Ajusco -99.162611  19.154286  2942.0   \n",
       "2       AJM  Ajusco Medio -99.207744  19.272161  2548.0   \n",
       "3       ARA        Aragón -99.074549  19.470218  2200.0   \n",
       "4       ATI      Atizapan -99.254133  19.576963  2341.0   \n",
       "\n",
       "                    obs_estac    id_station            Ciudad  \\\n",
       "0                         NaN  4.840000e+11  Estado de Mexico   \n",
       "1                         NaN  4.840000e+11  Ciudad de Mexico   \n",
       "2                         NaN  4.840000e+11  Ciudad de Mexico   \n",
       "3  Finalizó operación en 2010  4.840000e+11  Ciudad de Mexico   \n",
       "4                         NaN  4.840000e+11  Estado de Mexico   \n",
       "\n",
       "              Municipio  \n",
       "0       Valle de Mexico  \n",
       "1               Tlalpan  \n",
       "2               Tlalpan  \n",
       "3      Gustavo A Madero  \n",
       "4  Atizapan de Zaragoza  "
      ]
     },
     "execution_count": 2,
     "metadata": {},
     "output_type": "execute_result"
    }
   ],
   "source": [
    "# Retrieve stations csv file.\n",
    "file_estaciones = \"Resources/cat_estacion.csv\"\n",
    "\n",
    "# Read our Data file with the pandas library\n",
    "cat_estaciones_df = pd.read_csv(file_estaciones, encoding=\"ISO-8859-1\")\n",
    "cat_estaciones_df.head()"
   ]
  },
  {
   "cell_type": "code",
   "execution_count": 3,
   "metadata": {},
   "outputs": [
    {
     "data": {
      "text/html": [
       "<div>\n",
       "<style>\n",
       "    .dataframe thead tr:only-child th {\n",
       "        text-align: right;\n",
       "    }\n",
       "\n",
       "    .dataframe thead th {\n",
       "        text-align: left;\n",
       "    }\n",
       "\n",
       "    .dataframe tbody tr th {\n",
       "        vertical-align: top;\n",
       "    }\n",
       "</style>\n",
       "<table border=\"1\" class=\"dataframe\">\n",
       "  <thead>\n",
       "    <tr style=\"text-align: right;\">\n",
       "      <th></th>\n",
       "      <th>cve_estac</th>\n",
       "      <th>nom_estac</th>\n",
       "      <th>longitud</th>\n",
       "      <th>latitud</th>\n",
       "      <th>obs_estac</th>\n",
       "    </tr>\n",
       "  </thead>\n",
       "  <tbody>\n",
       "    <tr>\n",
       "      <th>0</th>\n",
       "      <td>ACO</td>\n",
       "      <td>Acolman</td>\n",
       "      <td>-98.912003</td>\n",
       "      <td>19.635501</td>\n",
       "      <td>NaN</td>\n",
       "    </tr>\n",
       "    <tr>\n",
       "      <th>1</th>\n",
       "      <td>AJU</td>\n",
       "      <td>Ajusco</td>\n",
       "      <td>-99.162611</td>\n",
       "      <td>19.154286</td>\n",
       "      <td>NaN</td>\n",
       "    </tr>\n",
       "    <tr>\n",
       "      <th>2</th>\n",
       "      <td>AJM</td>\n",
       "      <td>Ajusco Medio</td>\n",
       "      <td>-99.207744</td>\n",
       "      <td>19.272161</td>\n",
       "      <td>NaN</td>\n",
       "    </tr>\n",
       "    <tr>\n",
       "      <th>3</th>\n",
       "      <td>ARA</td>\n",
       "      <td>Aragón</td>\n",
       "      <td>-99.074549</td>\n",
       "      <td>19.470218</td>\n",
       "      <td>Finalizó operación en 2010</td>\n",
       "    </tr>\n",
       "    <tr>\n",
       "      <th>4</th>\n",
       "      <td>ATI</td>\n",
       "      <td>Atizapan</td>\n",
       "      <td>-99.254133</td>\n",
       "      <td>19.576963</td>\n",
       "      <td>NaN</td>\n",
       "    </tr>\n",
       "  </tbody>\n",
       "</table>\n",
       "</div>"
      ],
      "text/plain": [
       "  cve_estac     nom_estac   longitud    latitud                   obs_estac\n",
       "0       ACO       Acolman -98.912003  19.635501                         NaN\n",
       "1       AJU        Ajusco -99.162611  19.154286                         NaN\n",
       "2       AJM  Ajusco Medio -99.207744  19.272161                         NaN\n",
       "3       ARA        Aragón -99.074549  19.470218  Finalizó operación en 2010\n",
       "4       ATI      Atizapan -99.254133  19.576963                         NaN"
      ]
     },
     "execution_count": 3,
     "metadata": {},
     "output_type": "execute_result"
    }
   ],
   "source": [
    "# Keep wanted columns\n",
    "cat_estaciones_df = cat_estaciones_df[['cve_estac', 'nom_estac', 'longitud', 'latitud', 'obs_estac']]\n",
    "cat_estaciones_df.head()"
   ]
  },
  {
   "cell_type": "markdown",
   "metadata": {},
   "source": [
    "From the created DataFrame we observe that some stations have stopped operations since 2010 and before. We need to get the stations that are still operating."
   ]
  },
  {
   "cell_type": "code",
   "execution_count": 4,
   "metadata": {},
   "outputs": [
    {
     "data": {
      "text/html": [
       "<div>\n",
       "<style>\n",
       "    .dataframe thead tr:only-child th {\n",
       "        text-align: right;\n",
       "    }\n",
       "\n",
       "    .dataframe thead th {\n",
       "        text-align: left;\n",
       "    }\n",
       "\n",
       "    .dataframe tbody tr th {\n",
       "        vertical-align: top;\n",
       "    }\n",
       "</style>\n",
       "<table border=\"1\" class=\"dataframe\">\n",
       "  <thead>\n",
       "    <tr style=\"text-align: right;\">\n",
       "      <th></th>\n",
       "      <th>cve_estac</th>\n",
       "      <th>nom_estac</th>\n",
       "      <th>longitud</th>\n",
       "      <th>latitud</th>\n",
       "      <th>obs_estac</th>\n",
       "    </tr>\n",
       "  </thead>\n",
       "  <tbody>\n",
       "    <tr>\n",
       "      <th>3</th>\n",
       "      <td>ARA</td>\n",
       "      <td>Aragón</td>\n",
       "      <td>-99.074549</td>\n",
       "      <td>19.470218</td>\n",
       "      <td>Finalizó operación en 2010</td>\n",
       "    </tr>\n",
       "    <tr>\n",
       "      <th>5</th>\n",
       "      <td>AZC</td>\n",
       "      <td>Azcapotzalco</td>\n",
       "      <td>-99.198657</td>\n",
       "      <td>19.487728</td>\n",
       "      <td>Finalizó operación en 2010</td>\n",
       "    </tr>\n",
       "    <tr>\n",
       "      <th>6</th>\n",
       "      <td>BJU</td>\n",
       "      <td>Benito Juárez</td>\n",
       "      <td>-99.159596</td>\n",
       "      <td>19.370464</td>\n",
       "      <td>Finalizó operación en 2005</td>\n",
       "    </tr>\n",
       "    <tr>\n",
       "      <th>9</th>\n",
       "      <td>CES</td>\n",
       "      <td>Cerro de la Estrella</td>\n",
       "      <td>-99.074678</td>\n",
       "      <td>19.334731</td>\n",
       "      <td>Finalizó operación en 2010</td>\n",
       "    </tr>\n",
       "    <tr>\n",
       "      <th>10</th>\n",
       "      <td>CFE</td>\n",
       "      <td>Museo Tecnológico de la CFE</td>\n",
       "      <td>-99.194279</td>\n",
       "      <td>19.414393</td>\n",
       "      <td>Finalizó operación en 1996</td>\n",
       "    </tr>\n",
       "  </tbody>\n",
       "</table>\n",
       "</div>"
      ],
      "text/plain": [
       "   cve_estac                    nom_estac   longitud    latitud  \\\n",
       "3        ARA                       Aragón -99.074549  19.470218   \n",
       "5        AZC                 Azcapotzalco -99.198657  19.487728   \n",
       "6        BJU                Benito Juárez -99.159596  19.370464   \n",
       "9        CES         Cerro de la Estrella -99.074678  19.334731   \n",
       "10       CFE  Museo Tecnológico de la CFE -99.194279  19.414393   \n",
       "\n",
       "                     obs_estac  \n",
       "3   Finalizó operación en 2010  \n",
       "5   Finalizó operación en 2010  \n",
       "6   Finalizó operación en 2005  \n",
       "9   Finalizó operación en 2010  \n",
       "10  Finalizó operación en 1996  "
      ]
     },
     "execution_count": 4,
     "metadata": {},
     "output_type": "execute_result"
    }
   ],
   "source": [
    "# First, get stations that have stopped operating\n",
    "halt_stations = cat_estaciones_df.dropna(how='any')\n",
    "halt_stations.head()"
   ]
  },
  {
   "cell_type": "code",
   "execution_count": 5,
   "metadata": {},
   "outputs": [
    {
     "data": {
      "text/plain": [
       "cve_estac    20\n",
       "nom_estac    20\n",
       "longitud     20\n",
       "latitud      20\n",
       "obs_estac    20\n",
       "dtype: int64"
      ]
     },
     "execution_count": 5,
     "metadata": {},
     "output_type": "execute_result"
    }
   ],
   "source": [
    "# Halted stations count\n",
    "halt_stations.count()"
   ]
  },
  {
   "cell_type": "code",
   "execution_count": 6,
   "metadata": {},
   "outputs": [
    {
     "data": {
      "text/html": [
       "<div>\n",
       "<style>\n",
       "    .dataframe thead tr:only-child th {\n",
       "        text-align: right;\n",
       "    }\n",
       "\n",
       "    .dataframe thead th {\n",
       "        text-align: left;\n",
       "    }\n",
       "\n",
       "    .dataframe tbody tr th {\n",
       "        vertical-align: top;\n",
       "    }\n",
       "</style>\n",
       "<table border=\"1\" class=\"dataframe\">\n",
       "  <thead>\n",
       "    <tr style=\"text-align: right;\">\n",
       "      <th></th>\n",
       "      <th>Key</th>\n",
       "      <th>Name</th>\n",
       "      <th>Lng</th>\n",
       "      <th>Lat</th>\n",
       "    </tr>\n",
       "  </thead>\n",
       "  <tbody>\n",
       "    <tr>\n",
       "      <th>0</th>\n",
       "      <td>ACO</td>\n",
       "      <td>Acolman</td>\n",
       "      <td>-98.912003</td>\n",
       "      <td>19.635501</td>\n",
       "    </tr>\n",
       "    <tr>\n",
       "      <th>1</th>\n",
       "      <td>AJU</td>\n",
       "      <td>Ajusco</td>\n",
       "      <td>-99.162611</td>\n",
       "      <td>19.154286</td>\n",
       "    </tr>\n",
       "    <tr>\n",
       "      <th>2</th>\n",
       "      <td>AJM</td>\n",
       "      <td>Ajusco Medio</td>\n",
       "      <td>-99.207744</td>\n",
       "      <td>19.272161</td>\n",
       "    </tr>\n",
       "    <tr>\n",
       "      <th>4</th>\n",
       "      <td>ATI</td>\n",
       "      <td>Atizapan</td>\n",
       "      <td>-99.254133</td>\n",
       "      <td>19.576963</td>\n",
       "    </tr>\n",
       "    <tr>\n",
       "      <th>7</th>\n",
       "      <td>CAM</td>\n",
       "      <td>Camarones</td>\n",
       "      <td>-99.169794</td>\n",
       "      <td>19.468404</td>\n",
       "    </tr>\n",
       "  </tbody>\n",
       "</table>\n",
       "</div>"
      ],
      "text/plain": [
       "   Key          Name        Lng        Lat\n",
       "0  ACO       Acolman -98.912003  19.635501\n",
       "1  AJU        Ajusco -99.162611  19.154286\n",
       "2  AJM  Ajusco Medio -99.207744  19.272161\n",
       "4  ATI      Atizapan -99.254133  19.576963\n",
       "7  CAM     Camarones -99.169794  19.468404"
      ]
     },
     "execution_count": 6,
     "metadata": {},
     "output_type": "execute_result"
    }
   ],
   "source": [
    "# Retrieve operating stations, rename columns and keep most important.\n",
    "cat_estaciones_df = cat_estaciones_df.fillna('OK')\n",
    "\n",
    "active_stations_df = cat_estaciones_df.loc[cat_estaciones_df['obs_estac'] == 'OK']\n",
    "active_stations_df = active_stations_df[['cve_estac', 'nom_estac', 'longitud', 'latitud']]\n",
    "active_stations_df = active_stations_df.rename(columns={'cve_estac' : 'Key',\n",
    "                                                        'nom_estac' : 'Name',\n",
    "                                                        'longitud' : 'Lng',\n",
    "                                                        'latitud' : 'Lat'})\n",
    "active_stations_df.head()"
   ]
  },
  {
   "cell_type": "code",
   "execution_count": 7,
   "metadata": {},
   "outputs": [
    {
     "data": {
      "text/plain": [
       "Key     49\n",
       "Name    49\n",
       "Lng     49\n",
       "Lat     49\n",
       "dtype: int64"
      ]
     },
     "execution_count": 7,
     "metadata": {},
     "output_type": "execute_result"
    }
   ],
   "source": [
    "# Operationg stations count\n",
    "active_stations_df.count()"
   ]
  },
  {
   "cell_type": "code",
   "execution_count": 8,
   "metadata": {},
   "outputs": [
    {
     "data": {
      "text/plain": [
       "49"
      ]
     },
     "execution_count": 8,
     "metadata": {},
     "output_type": "execute_result"
    }
   ],
   "source": [
    "# Extract stations codes already operating\n",
    "active_stations_list = []\n",
    "for station in active_stations_df['Key']:    \n",
    "    active_stations_list.append(station)\n",
    "len(active_stations_list)"
   ]
  },
  {
   "cell_type": "code",
   "execution_count": 9,
   "metadata": {},
   "outputs": [
    {
     "name": "stdout",
     "output_type": "stream",
     "text": [
      "['ACO', 'AJU', 'AJM', 'ATI', 'CAM', 'CCA', 'CHO', 'COR', 'COY', 'CUA', 'CUT', 'DIC', 'EAJ', 'EDL', 'FAC', 'GAM', 'HGM', 'IBM', 'INN', 'IZT', 'LAA', 'LLA', 'LOM', 'LPR', 'MCM', 'MER', 'MGH', 'MON', 'MPA', 'NEZ', 'PED', 'SAG', 'SFE', 'SHA', 'SJA', 'SNT', 'SUR', 'TAH', 'TEC', 'TLA', 'TLI', 'TPN', 'UAX', 'UIZ', 'UNM', 'VIF', 'XAL', 'FAR', 'SAC']\n"
     ]
    }
   ],
   "source": [
    "# Printing codes of operating stations.\n",
    "print(active_stations_list)"
   ]
  },
  {
   "cell_type": "markdown",
   "metadata": {},
   "source": [
    "According to these tesults we found that:\n",
    "* 20 Stations are not operating since 2010 and before\n",
    "* 49 Stations are still in operation, we will focus on these ones.\n",
    "\n",
    "\n",
    "The stations list created was done by taking the code of each operating station.From here, we can separate the current active stations that we get from the csv file of the stations. \n",
    "\n",
    "Now we can use an API to retrieve the measurements done by each of this active stations."
   ]
  },
  {
   "cell_type": "markdown",
   "metadata": {},
   "source": [
    "***"
   ]
  },
  {
   "cell_type": "markdown",
   "metadata": {},
   "source": [
    "# API: Air Quality from Mexico\n",
    "\n",
    "Using the API on the URL: https://datos.gob.mx/blog/ventilando-datos-abiertos-sobre-calidad-del-aire\n",
    "we get data realated to these stations and the parameters measured by each one.\n",
    "\n",
    "* To make this work it is necessary to install the module <font color=blue>datosgobmx</font> so it can be possible to make the calls to the API.\n",
    "    * Run the command: **<font color=blue>pip install datosgobmx</font>**\n",
    "\n",
    "    \n",
    "* First, retrieve the parameters that are measured by the stations\n",
    "\n",
    "\n",
    "To make a call we simply use the function <font color=red>makeCall</font>, included in the module datosgobmx and pass the desired endpoint as parameter to the client. Then convert the returned json into a Pandas DataFrame. \n",
    "The returned info is the data provided through SINAICA from the meteorological stations.\n"
   ]
  },
  {
   "cell_type": "code",
   "execution_count": 10,
   "metadata": {
    "collapsed": true
   },
   "outputs": [],
   "source": [
    "# Dependencies\n",
    "from datosgobmx import client "
   ]
  },
  {
   "cell_type": "markdown",
   "metadata": {},
   "source": [
    "- We first use <font color=blue>'sinacia-parametros'</font> as endpoint to get the **parameters** measured by the stations."
   ]
  },
  {
   "cell_type": "code",
   "execution_count": 11,
   "metadata": {},
   "outputs": [
    {
     "name": "stdout",
     "output_type": "stream",
     "text": [
      "CALL: https://api.datos.gob.mx/v2/sinaica-parametros\n",
      "{'pagination': {'pageSize': 100, 'page': 1, 'total': 7}, 'results': [{'_id': '5c2aa3dfe2705c1932134299', 'parametro': 'CO', 'date-insert': '2018-12-31T23:18:55.923Z'}, {'_id': '5c2aa3dfe2705c193213429a', 'parametro': 'O3', 'date-insert': '2018-12-31T23:18:55.923Z'}, {'_id': '5c2aa3dfe2705c193213429b', 'parametro': 'PM10', 'date-insert': '2018-12-31T23:18:55.923Z'}, {'_id': '5c2aa3dfe2705c193213429c', 'parametro': 'SO2', 'date-insert': '2018-12-31T23:18:55.923Z'}, {'_id': '5c2aa3dfe2705c193213429d', 'parametro': 'NO2', 'date-insert': '2018-12-31T23:18:55.923Z'}, {'_id': '5c2aa3dfe2705c193213429e', 'parametro': 'PM2.5', 'date-insert': '2018-12-31T23:18:55.923Z'}, {'_id': '5c2aa3dfe2705c193213429f', 'parametro': 'TMP', 'date-insert': '2018-12-31T23:18:55.923Z'}]}\n"
     ]
    }
   ],
   "source": [
    "# Perform the call to the client to get the PARAMETERS measured.\n",
    "params_request = client.makeCall('sinaica-parametros')"
   ]
  },
  {
   "cell_type": "code",
   "execution_count": 12,
   "metadata": {
    "scrolled": true
   },
   "outputs": [
    {
     "data": {
      "text/html": [
       "<div>\n",
       "<style>\n",
       "    .dataframe thead tr:only-child th {\n",
       "        text-align: right;\n",
       "    }\n",
       "\n",
       "    .dataframe thead th {\n",
       "        text-align: left;\n",
       "    }\n",
       "\n",
       "    .dataframe tbody tr th {\n",
       "        vertical-align: top;\n",
       "    }\n",
       "</style>\n",
       "<table border=\"1\" class=\"dataframe\">\n",
       "  <thead>\n",
       "    <tr style=\"text-align: right;\">\n",
       "      <th></th>\n",
       "      <th>_id</th>\n",
       "      <th>parametro</th>\n",
       "      <th>date-insert</th>\n",
       "    </tr>\n",
       "  </thead>\n",
       "  <tbody>\n",
       "    <tr>\n",
       "      <th>0</th>\n",
       "      <td>5c2aa3dfe2705c1932134299</td>\n",
       "      <td>CO</td>\n",
       "      <td>2018-12-31 23:18:55.923</td>\n",
       "    </tr>\n",
       "    <tr>\n",
       "      <th>1</th>\n",
       "      <td>5c2aa3dfe2705c193213429a</td>\n",
       "      <td>O3</td>\n",
       "      <td>2018-12-31 23:18:55.923</td>\n",
       "    </tr>\n",
       "    <tr>\n",
       "      <th>2</th>\n",
       "      <td>5c2aa3dfe2705c193213429b</td>\n",
       "      <td>PM10</td>\n",
       "      <td>2018-12-31 23:18:55.923</td>\n",
       "    </tr>\n",
       "    <tr>\n",
       "      <th>3</th>\n",
       "      <td>5c2aa3dfe2705c193213429c</td>\n",
       "      <td>SO2</td>\n",
       "      <td>2018-12-31 23:18:55.923</td>\n",
       "    </tr>\n",
       "    <tr>\n",
       "      <th>4</th>\n",
       "      <td>5c2aa3dfe2705c193213429d</td>\n",
       "      <td>NO2</td>\n",
       "      <td>2018-12-31 23:18:55.923</td>\n",
       "    </tr>\n",
       "    <tr>\n",
       "      <th>5</th>\n",
       "      <td>5c2aa3dfe2705c193213429e</td>\n",
       "      <td>PM2.5</td>\n",
       "      <td>2018-12-31 23:18:55.923</td>\n",
       "    </tr>\n",
       "    <tr>\n",
       "      <th>6</th>\n",
       "      <td>5c2aa3dfe2705c193213429f</td>\n",
       "      <td>TMP</td>\n",
       "      <td>2018-12-31 23:18:55.923</td>\n",
       "    </tr>\n",
       "  </tbody>\n",
       "</table>\n",
       "</div>"
      ],
      "text/plain": [
       "                        _id parametro             date-insert\n",
       "0  5c2aa3dfe2705c1932134299        CO 2018-12-31 23:18:55.923\n",
       "1  5c2aa3dfe2705c193213429a        O3 2018-12-31 23:18:55.923\n",
       "2  5c2aa3dfe2705c193213429b      PM10 2018-12-31 23:18:55.923\n",
       "3  5c2aa3dfe2705c193213429c       SO2 2018-12-31 23:18:55.923\n",
       "4  5c2aa3dfe2705c193213429d       NO2 2018-12-31 23:18:55.923\n",
       "5  5c2aa3dfe2705c193213429e     PM2.5 2018-12-31 23:18:55.923\n",
       "6  5c2aa3dfe2705c193213429f       TMP 2018-12-31 23:18:55.923"
      ]
     },
     "execution_count": 12,
     "metadata": {},
     "output_type": "execute_result"
    }
   ],
   "source": [
    "# Convert the obtained json into a DataFrame.\n",
    "params_measured = []\n",
    "\n",
    "for v in params_request['results']:\n",
    "    aux = pd.DataFrame.from_dict(v, orient='index').T\n",
    "    params_measured.append(aux)\n",
    "\n",
    "params_measured = pd.concat(params_measured, ignore_index=True)\n",
    "params_measured['date-insert'] = pd.to_datetime(params_measured['date-insert'])\n",
    "params_measured"
   ]
  },
  {
   "cell_type": "markdown",
   "metadata": {},
   "source": [
    "These DataFrame, shows the 7 parametes measured by the stations according to the API provided."
   ]
  },
  {
   "cell_type": "markdown",
   "metadata": {
    "collapsed": true
   },
   "source": [
    "- Now, we use <font color=blue>'sinaica-estaciones'</font> as the endpoint, to get all the stations from the API. The parameter <font color=blue>'pageSize'</font> is the number of results that we want the API to give us. In this case, there are 185 stations in the data base, so we give a bigger number to make sure it will return all of them."
   ]
  },
  {
   "cell_type": "code",
   "execution_count": 13,
   "metadata": {},
   "outputs": [
    {
     "name": "stdout",
     "output_type": "stream",
     "text": [
      "CALL: https://api.datos.gob.mx/v2/sinaica-estaciones?pageSize=200\n",
      "{'pagination': {'pageSize': 200, 'page': 1, 'total': 185}, 'results': [{'_id': '5ca7a94ee2705c1932937045', 'lat': 21.873311111111, 'long': -102.32080277778, 'id': 31, 'nombre': 'CBTIS\\xa0', 'codigo': 'CBT', 'redesid': 30, 'date-insert': '2019-04-05T19:15:26.824Z'}, {'_id': '5ca7a94ee2705c1932937046', 'lat': 21.846391666667, 'long': -102.28843055556, 'id': 32, 'nombre': 'Secretaría de Medio Ambiente', 'codigo': 'SMA', 'redesid': 30, 'date-insert': '2019-04-05T19:15:26.828Z'}, {'_id': '5ca7a94ee2705c1932937047', 'lat': 21.883780555556, 'long': -102.295825, 'id': 33, 'nombre': 'Centro', 'codigo': 'CEN', 'redesid': 30, 'date-insert': '2019-04-05T19:15:26.828Z'}, {'_id': '5ca7a94ee2705c1932937048', 'lat': 32.639722222222, 'long': -115.50638888889, 'id': 39, 'nombre': 'COBACH', 'codigo': 'SPABC14', 'redesid': 32, 'date-insert': '2019-04-05T19:15:26.828Z'}, {'_id': '5ca7a94ee2705c1932937049', 'lat': 32.603638888889, 'long': -115.48594444444, 'id': 41, 'nombre': 'CESPM', 'codigo': 'SPABC19', 'redesid': 32, 'date-insert': '2019-04-05T19:15:26.828Z'}, {'_id': '5ca7a94ee2705c193293704a', 'lat': 32.625972222222, 'long': -115.37575, 'id': 42, 'nombre': 'UPBC', 'codigo': 'SPABC22', 'redesid': 32, 'date-insert': '2019-04-05T19:15:26.828Z'}, {'_id': '5ca7a94ee2705c193293704b', 'lat': 32.353055555556, 'long': -117.05611111111, 'id': 43, 'nombre': 'Rosarito', 'codigo': 'SPABC04', 'redesid': 33, 'date-insert': '2019-04-05T19:15:26.828Z'}, {'_id': '5ca7a94ee2705c193293704c', 'lat': 32.568825, 'long': -116.62688055556, 'id': 44, 'nombre': 'Tecate', 'codigo': 'SPABC23', 'redesid': 34, 'date-insert': '2019-04-05T19:15:26.828Z'}, {'_id': '5ca7a94ee2705c193293704d', 'lat': 32.531008333333, 'long': -116.98602777778, 'id': 45, 'nombre': 'Tecnológico', 'codigo': 'SPABC01', 'redesid': 35, 'date-insert': '2019-04-05T19:15:26.828Z'}, {'_id': '5ca7a94ee2705c193293704e', 'lat': 32.529461111111, 'long': -116.92128055556, 'id': 46, 'nombre': 'Laboratorio', 'codigo': 'SPABC21', 'redesid': 35, 'date-insert': '2019-04-05T19:15:26.828Z'}, {'_id': '5ca7a94ee2705c193293704f', 'lat': 32.4975, 'long': -116.97694444444, 'id': 47, 'nombre': 'La Mesa', 'codigo': 'SPABC03', 'redesid': 35, 'date-insert': '2019-04-05T19:15:26.829Z'}, {'_id': '5ca7a94ee2705c1932937050', 'lat': 19.846333333333, 'long': -90.530777777778, 'id': 49, 'nombre': 'Guadalupe', 'codigo': 'GPE', 'redesid': 36, 'date-insert': '2019-04-05T19:15:26.829Z'}, {'_id': '5ca7a94ee2705c1932937051', 'lat': 16.755277777778, 'long': -93.120833333333, 'id': 50, 'nombre': 'Palacio Municipal', 'codigo': 'PMN', 'redesid': 37, 'date-insert': '2019-04-05T19:15:26.829Z'}, {'_id': '5ca7a94ee2705c1932937052', 'lat': 28.632775, 'long': -106.03886694444, 'id': 53, 'nombre': 'SUR', 'codigo': 'SUR', 'redesid': 38, 'date-insert': '2019-04-05T19:15:26.829Z'}, {'_id': '5ca7a94ee2705c1932937053', 'lat': 28.652227777778, 'long': -106.08535833333, 'id': 54, 'nombre': 'Centro', 'codigo': 'CEN', 'redesid': 38, 'date-insert': '2019-04-05T19:15:26.829Z'}, {'_id': '5ca7a94ee2705c1932937054', 'lat': 28.716083333333, 'long': -106.13330555556, 'id': 55, 'nombre': 'CIMAV', 'codigo': 'CIMAV', 'redesid': 39, 'date-insert': '2019-04-05T19:15:26.829Z'}, {'_id': '5ca7a94ee2705c1932937055', 'lat': 25.522694444444, 'long': -103.39580555556, 'id': 56, 'nombre': 'CONALEP', 'codigo': 'CNP', 'redesid': 40, 'date-insert': '2019-04-05T19:15:26.829Z'}, {'_id': '5ca7a94ee2705c1932937056', 'lat': 19.262127777778, 'long': -103.72403333333, 'id': 57, 'nombre': 'Tecnologico', 'codigo': 'TEC', 'redesid': 41, 'date-insert': '2019-04-05T19:15:26.829Z'}, {'_id': '5ca7a94ee2705c1932937057', 'lat': 24.034472222222, 'long': -104.64502777778, 'id': 58, 'nombre': 'ITD', 'codigo': 'ITD', 'redesid': 42, 'date-insert': '2019-04-05T19:15:26.829Z'}, {'_id': '5ca7a94ee2705c1932937058', 'lat': 24.051555555556, 'long': -104.61136111111, 'id': 59, 'nombre': 'IPN', 'codigo': 'IPN', 'redesid': 42, 'date-insert': '2019-04-05T19:15:26.829Z'}, {'_id': '5ca7a94ee2705c1932937059', 'lat': 24.026777777778, 'long': -104.692975, 'id': 60, 'nombre': 'SRNyMA', 'codigo': 'SRN', 'redesid': 42, 'date-insert': '2019-04-05T19:15:26.829Z'}, {'_id': '5ca7a94ee2705c193293705a', 'lat': 25.551222222222, 'long': -103.50252777778, 'id': 65, 'nombre': 'Campestre', 'codigo': 'CAM', 'redesid': 43, 'date-insert': '2019-04-05T19:15:26.829Z'}, {'_id': '5ca7a94ee2705c193293705b', 'lat': 25.539180555556, 'long': -103.52321666667, 'id': 67, 'nombre': 'SAGARPA', 'codigo': 'SAG', 'redesid': 44, 'date-insert': '2019-04-05T19:15:26.829Z'}, {'_id': '5ca7a94ee2705c193293705c', 'lat': 20.5175, 'long': -100.81555555556, 'id': 68, 'nombre': 'Policía', 'codigo': 'POL', 'redesid': 45, 'date-insert': '2019-04-05T19:15:26.830Z'}, {'_id': '5ca7a94ee2705c193293705d', 'lat': 20.545277777778, 'long': -100.80694444444, 'id': 69, 'nombre': 'Tecnológico', 'codigo': 'TEC', 'redesid': 45, 'date-insert': '2019-04-05T19:15:26.830Z'}, {'_id': '5ca7a94ee2705c193293705e', 'lat': 20.5375, 'long': -100.83972222222, 'id': 70, 'nombre': 'San Juanico', 'codigo': 'SJ', 'redesid': 45, 'date-insert': '2019-04-05T19:15:26.830Z'}, {'_id': '5ca7a94ee2705c193293705f', 'lat': 20.6925, 'long': -101.365, 'id': 71, 'nombre': 'Sec. Oficial', 'codigo': 'SEC', 'redesid': 46, 'date-insert': '2019-04-05T19:15:26.830Z'}, {'_id': '5ca7a94ee2705c1932937060', 'lat': 21.118055555556, 'long': -101.60216666667, 'id': 72, 'nombre': 'Bomberos', 'codigo': 'BOM', 'redesid': 46, 'date-insert': '2019-04-05T19:15:26.830Z'}, {'_id': '5ca7a94ee2705c1932937061', 'lat': 20.658055555556, 'long': -101.34888888889, 'id': 73, 'nombre': 'Teódula', 'codigo': 'TEO', 'redesid': 46, 'date-insert': '2019-04-05T19:15:26.830Z'}, {'_id': '5ca7a94ee2705c1932937062', 'lat': 21.103055555556, 'long': -101.63611111111, 'id': 74, 'nombre': 'CICEG - Bomberos', 'codigo': 'CC', 'redesid': 47, 'date-insert': '2019-04-05T19:15:26.831Z'}, {'_id': '5ca7a94ee2705c1932937063', 'lat': 21.133333333333, 'long': -101.68, 'id': 75, 'nombre': 'Facultad de Medicina', 'codigo': 'FM', 'redesid': 47, 'date-insert': '2019-04-05T19:15:26.831Z'}, {'_id': '5ca7a94ee2705c1932937064', 'lat': 21.108611111111, 'long': -101.68861111111, 'id': 76, 'nombre': 'T21', 'codigo': 'T21', 'redesid': 47, 'date-insert': '2019-04-05T19:15:26.831Z'}, {'_id': '5ca7a94ee2705c1932937065', 'lat': 20.578611111111, 'long': -101.19888888889, 'id': 77, 'nombre': 'Cruz roja', 'codigo': 'CR', 'redesid': 48, 'date-insert': '2019-04-05T19:15:26.831Z'}, {'_id': '5ca7a94ee2705c1932937066', 'lat': 20.558055555556, 'long': -101.20472222222, 'id': 78, 'nombre': 'DIF', 'codigo': 'DIF', 'redesid': 48, 'date-insert': '2019-04-05T19:15:26.831Z'}, {'_id': '5ca7a94ee2705c1932937067', 'lat': 20.565, 'long': -101.18805555556, 'id': 79, 'nombre': 'Nativitas', 'codigo': 'NAT', 'redesid': 48, 'date-insert': '2019-04-05T19:15:26.831Z'}, {'_id': '5ca7a94ee2705c1932937068', 'lat': 20.947777777778, 'long': -101.42583333333, 'id': 80, 'nombre': 'Hospital General', 'codigo': 'HG', 'redesid': 49, 'date-insert': '2019-04-05T19:15:26.831Z'}, {'_id': '5ca7a94ee2705c1932937069', 'lat': 20.06, 'long': -99.221944444444, 'id': 82, 'nombre': 'Centro de Salud', 'codigo': 'ATI', 'redesid': 51, 'date-insert': '2019-04-05T19:15:26.831Z'}, {'_id': '5ca7a94ee2705c193293706a', 'lat': 20.006666666667, 'long': -99.218888888889, 'id': 83, 'nombre': 'Primaria Revolución', 'codigo': 'ATO', 'redesid': 52, 'date-insert': '2019-04-05T19:15:26.831Z'}, {'_id': '5ca7a94ee2705c193293706b', 'lat': 19.771694444444, 'long': -98.577694444444, 'id': 84, 'nombre': 'Estación de Bomberos de Cd. Sahagún', 'codigo': 'TEP', 'redesid': 53, 'date-insert': '2019-04-05T19:15:26.832Z'}, {'_id': '5ca7a94ee2705c193293706c', 'lat': 20.375111111111, 'long': -99.654444444444, 'id': 85, 'nombre': 'Hospital', 'codigo': 'HUI', 'redesid': 54, 'date-insert': '2019-04-05T19:15:26.832Z'}, {'_id': '5ca7a94ee2705c193293706d', 'lat': 20.505555555556, 'long': -99.580277777778, 'id': 87, 'nombre': 'Primaria Melchor Ocampo', 'codigo': 'TPJ', 'redesid': 56, 'date-insert': '2019-04-05T19:15:26.832Z'}, {'_id': '5ca7a94ee2705c193293706e', 'lat': 20.053777777778, 'long': -99.340055555556, 'id': 90, 'nombre': 'Centro de Salud', 'codigo': 'CSA', 'redesid': 58, 'date-insert': '2019-04-05T19:15:26.832Z'}, {'_id': '5ca7a94ee2705c193293706f', 'lat': 20.120555555556, 'long': -98.74, 'id': 92, 'nombre': 'Jardín del Maestro', 'codigo': 'JDN', 'redesid': 59, 'date-insert': '2019-04-05T19:15:26.832Z'}, {'_id': '5ca7a94ee2705c1932937070', 'lat': 20.077222222222, 'long': -98.777972222222, 'id': 93, 'nombre': 'Museo del Rehilete', 'codigo': 'REH', 'redesid': 59, 'date-insert': '2019-04-05T19:15:26.832Z'}, {'_id': '5ca7a94ee2705c1932937071', 'lat': 19.840583333333, 'long': -98.981333333333, 'id': 96, 'nombre': 'Biblioteca', 'codigo': 'TIZ', 'redesid': 60, 'date-insert': '2019-04-05T19:15:26.832Z'}, {'_id': '5ca7a94ee2705c1932937072', 'lat': 20.719673888889, 'long': -103.35543472222, 'id': 101, 'nombre': 'Atemajac', 'codigo': 'ATM', 'redesid': 63, 'date-insert': '2019-04-05T19:15:26.832Z'}, {'_id': '5ca7a94ee2705c1932937073', 'lat': 20.673764722222, 'long': -103.33333611111, 'id': 102, 'nombre': 'Centro ', 'codigo': 'CEN', 'redesid': 63, 'date-insert': '2019-04-05T19:15:26.832Z'}, {'_id': '5ca7a94ee2705c1932937074', 'lat': 20.631268055556, 'long': -103.41643083333, 'id': 103, 'nombre': 'Las Águilas', 'codigo': 'AGU', 'redesid': 63, 'date-insert': '2019-04-05T19:15:26.832Z'}, {'_id': '5ca7a94ee2705c1932937075', 'lat': 20.576823888889, 'long': -103.32652861111, 'id': 104, 'nombre': 'Las Pintas', 'codigo': 'PIN', 'redesid': 63, 'date-insert': '2019-04-05T19:15:26.832Z'}, {'_id': '5ca7a94ee2705c1932937076', 'lat': 20.629294722222, 'long': -103.26397416667, 'id': 105, 'nombre': 'Loma Dorada', 'codigo': 'LDO', 'redesid': 63, 'date-insert': '2019-04-05T19:15:26.832Z'}, {'_id': '5ca7a94ee2705c1932937077', 'lat': 20.614444444444, 'long': -103.34333333333, 'id': 106, 'nombre': 'Miravalle', 'codigo': 'MIR', 'redesid': 63, 'date-insert': '2019-04-05T19:15:26.833Z'}, {'_id': '5ca7a94ee2705c1932937078', 'lat': 20.700538611111, 'long': -103.29661666667, 'id': 107, 'nombre': 'Oblatos', 'codigo': 'OBL', 'redesid': 63, 'date-insert': '2019-04-05T19:15:26.833Z'}, {'_id': '5ca7a94ee2705c1932937079', 'lat': 20.529149444444, 'long': -103.37717944444, 'id': 108, 'nombre': 'Santa Fe', 'codigo': 'SFE', 'redesid': 63, 'date-insert': '2019-04-05T19:15:26.833Z'}, {'_id': '5ca7a94ee2705c193293707a', 'lat': 20.640966666667, 'long': -103.31259194444, 'id': 109, 'nombre': 'Tlaquepaque', 'codigo': 'TLA', 'redesid': 63, 'date-insert': '2019-04-05T19:15:26.833Z'}, {'_id': '5ca7a94ee2705c193293707b', 'lat': 20.680193055556, 'long': -103.39855138889, 'id': 110, 'nombre': 'Vallarta', 'codigo': 'VAL', 'redesid': 63, 'date-insert': '2019-04-05T19:15:26.833Z'}, {'_id': '5ca7a94ee2705c193293707c', 'lat': 31.735555555556, 'long': -106.50361111111, 'id': 111, 'nombre': 'CANALES LIRA', 'codigo': 'CLB', 'redesid': 64, 'date-insert': '2019-04-05T19:15:26.833Z'}, {'_id': '5ca7a94ee2705c193293707d', 'lat': 31.689722222222, 'long': -106.45972222222, 'id': 112, 'nombre': 'ADVANCE', 'codigo': 'ADV', 'redesid': 64, 'date-insert': '2019-04-05T19:15:26.833Z'}, {'_id': '5ca7a94ee2705c193293707e', 'lat': 31.755, 'long': -106.45958333333, 'id': 120, 'nombre': 'CHAMIZAL', 'codigo': 'CHA', 'redesid': 64, 'date-insert': '2019-04-05T19:15:26.833Z'}, {'_id': '5ca7a94ee2705c193293707f', 'lat': 31.717083333333, 'long': -106.39633333333, 'id': 121, 'nombre': 'TECNO', 'codigo': 'TEC', 'redesid': 64, 'date-insert': '2019-04-05T19:15:26.833Z'}, {'_id': '5ca7a94ee2705c1932937080', 'lat': 19.334558333333, 'long': -99.573972222222, 'id': 122, 'nombre': 'Aeropuerto', 'codigo': 'AP', 'redesid': 65, 'date-insert': '2019-04-05T19:15:26.833Z'}, {'_id': '5ca7a94ee2705c1932937081', 'lat': 19.260305555556, 'long': -99.645722222222, 'id': 123, 'nombre': 'Ceboruco', 'codigo': 'CB', 'redesid': 65, 'date-insert': '2019-04-05T19:15:26.833Z'}, {'_id': '5ca7a94ee2705c1932937082', 'lat': 19.278083333333, 'long': -99.656416666667, 'id': 124, 'nombre': 'Toluca Centro', 'codigo': 'CE', 'redesid': 65, 'date-insert': '2019-04-05T19:15:26.833Z'}, {'_id': '5ca7a94ee2705c1932937083', 'lat': 19.270194444444, 'long': -99.595194444444, 'id': 125, 'nombre': 'Metepec', 'codigo': 'MT', 'redesid': 65, 'date-insert': '2019-04-05T19:15:26.833Z'}, {'_id': '5ca7a94ee2705c1932937084', 'lat': 19.283444444444, 'long': -99.683488888889, 'id': 126, 'nombre': 'Oxtotitlán', 'codigo': 'OX', 'redesid': 65, 'date-insert': '2019-04-05T19:15:26.833Z'}, {'_id': '5ca7a94ee2705c1932937085', 'lat': 19.327222222222, 'long': -99.634288888889, 'id': 127, 'nombre': 'San Cristobal', 'codigo': 'SC', 'redesid': 65, 'date-insert': '2019-04-05T19:15:26.834Z'}, {'_id': '5ca7a94ee2705c1932937086', 'lat': 19.280416666667, 'long': -99.541666666667, 'id': 128, 'nombre': 'San Mateo Atenco', 'codigo': 'SM', 'redesid': 65, 'date-insert': '2019-04-05T19:15:26.834Z'}, {'_id': '5ca7a94ee2705c1932937087', 'lat': 19.690461111111, 'long': -101.20478888889, 'id': 129, 'nombre': 'Universidad Michoacana de San Nicolás Hidalgo', 'codigo': 'ECU', 'redesid': 66, 'date-insert': '2019-04-05T19:15:26.834Z'}, {'_id': '5ca7a94ee2705c1932937088', 'lat': 19.691977777778, 'long': -101.15547222222, 'id': 131, 'nombre': 'Laboratorio de Salud', 'codigo': 'LAB', 'redesid': 66, 'date-insert': '2019-04-05T19:15:26.834Z'}, {'_id': '5ca7a94ee2705c1932937089', 'lat': 18.812986944444, 'long': -98.955305833333, 'id': 132, 'nombre': 'Palacio Municipal Cuautla', 'codigo': 'PMNC', 'redesid': 67, 'date-insert': '2019-04-05T19:15:26.834Z'}, {'_id': '5ca7a94ee2705c193293708a', 'lat': 18.8775, 'long': -98.775555555556, 'id': 133, 'nombre': 'Palacio Municipal', 'codigo': 'PMNO', 'redesid': 68, 'date-insert': '2019-04-05T19:15:26.834Z'}, {'_id': '5ca7a94ee2705c193293708b', 'lat': 18.921817777778, 'long': -99.234896666667, 'id': 134, 'nombre': 'Cuernavaca 01', 'codigo': 'PGO', 'redesid': 69, 'date-insert': '2019-04-05T19:15:26.834Z'}, {'_id': '5ca7a94ee2705c193293708c', 'lat': 18.654444444444, 'long': -99.183333333333, 'id': 135, 'nombre': 'Tecnológico de Zacatepec', 'codigo': 'TEC', 'redesid': 70, 'date-insert': '2019-04-05T19:15:26.835Z'}, {'_id': '5ca7a94ee2705c193293708d', 'lat': 21.478177777778, 'long': -104.86774166667, 'id': 136, 'nombre': 'Tecnológico de Tepic', 'codigo': 'TEC', 'redesid': 71, 'date-insert': '2019-04-05T19:15:26.835Z'}, {'_id': '5ca7a94ee2705c193293708e', 'lat': 21.509805555556, 'long': -104.91018055556, 'id': 137, 'nombre': 'Primaria Julián Gascón Mercado', 'codigo': 'PRIM', 'redesid': 71, 'date-insert': '2019-04-05T19:15:26.836Z'}, {'_id': '5ca7a94ee2705c193293708f', 'lat': 25.675555555556, 'long': -100.46472222222, 'id': 139, 'nombre': 'Santa Catarina', 'codigo': 'SO', 'redesid': 72, 'date-insert': '2019-04-05T19:15:26.836Z'}, {'_id': '5ca7a94ee2705c1932937090', 'lat': 25.756944444444, 'long': -100.36583333333, 'id': 140, 'nombre': 'San Bernabé', 'codigo': 'NO', 'redesid': 72, 'date-insert': '2019-04-05T19:15:26.836Z'}, {'_id': '5ca7a94ee2705c1932937091', 'lat': 25.675833333333, 'long': -100.33833333333, 'id': 141, 'nombre': 'Obispado', 'codigo': 'CE', 'redesid': 72, 'date-insert': '2019-04-05T19:15:26.836Z'}, {'_id': '5ca7a94ee2705c1932937092', 'lat': 25.745277777778, 'long': -100.255, 'id': 142, 'nombre': 'San Nicolás', 'codigo': 'NE', 'redesid': 72, 'date-insert': '2019-04-05T19:15:26.836Z'}, {'_id': '5ca7a94ee2705c1932937093', 'lat': 25.668055555556, 'long': -100.24944444444, 'id': 143, 'nombre': 'La Pastora', 'codigo': 'SE', 'redesid': 72, 'date-insert': '2019-04-05T19:15:26.836Z'}, {'_id': '5ca7a94ee2705c1932937094', 'lat': 25.800555555556, 'long': -100.34444444444, 'id': 144, 'nombre': 'Escobedo', 'codigo': 'N', 'redesid': 72, 'date-insert': '2019-04-05T19:15:26.836Z'}, {'_id': '5ca7a94ee2705c1932937095', 'lat': 25.783333333333, 'long': -100.58583333333, 'id': 145, 'nombre': 'García', 'codigo': 'NO2', 'redesid': 72, 'date-insert': '2019-04-05T19:15:26.836Z'}, {'_id': '5ca7a94ee2705c1932937096', 'lat': 25.777222222222, 'long': -100.18833333333, 'id': 146, 'nombre': 'Apodaca', 'codigo': 'NE2', 'redesid': 72, 'date-insert': '2019-04-05T19:15:26.836Z'}, {'_id': '5ca7a94ee2705c1932937097', 'lat': 25.646111111111, 'long': -100.09555555556, 'id': 147, 'nombre': 'Juárez', 'codigo': 'SE2', 'redesid': 72, 'date-insert': '2019-04-05T19:15:26.836Z'}, {'_id': '5ca7a94ee2705c1932937098', 'lat': 25.665277777778, 'long': -100.41277777778, 'id': 148, 'nombre': 'San Pedro', 'codigo': 'SO2', 'redesid': 72, 'date-insert': '2019-04-05T19:15:26.836Z'}, {'_id': '5ca7a94ee2705c1932937099', 'lat': 16.699340277778, 'long': -96.866455, 'id': 160, 'nombre': 'CEDART', 'codigo': 'CED', 'redesid': 73, 'date-insert': '2019-04-05T19:15:26.836Z'}, {'_id': '5ca7a94ee2705c193293709a', 'lat': 18.987583333333, 'long': -98.250388888889, 'id': 161, 'nombre': 'Agua Santa', 'codigo': 'STA', 'redesid': 74, 'date-insert': '2019-04-05T19:15:26.836Z'}, {'_id': '5ca7a94ee2705c193293709b', 'lat': 19.041388888889, 'long': -98.214222222222, 'id': 162, 'nombre': 'Las Ninfas', 'codigo': 'NIN', 'redesid': 74, 'date-insert': '2019-04-05T19:15:26.836Z'}, {'_id': '5ca7a94ee2705c193293709c', 'lat': 19.062722222222, 'long': -98.224527777778, 'id': 163, 'nombre': 'Benemérito Instituto Normal del Estado', 'codigo': 'BINE', 'redesid': 74, 'date-insert': '2019-04-05T19:15:26.836Z'}, {'_id': '5ca7a94ee2705c193293709d', 'lat': 18.987361111111, 'long': -98.277944444444, 'id': 165, 'nombre': 'Velódromo', 'codigo': 'VEL', 'redesid': 74, 'date-insert': '2019-04-05T19:15:26.837Z'}, {'_id': '5ca7a94ee2705c193293709e', 'lat': 20.556111111111, 'long': -100.44564722222, 'id': 166, 'nombre': 'Corregidora', 'codigo': 'COR', 'redesid': 76, 'date-insert': '2019-04-05T19:15:26.837Z'}, {'_id': '5ca7a94ee2705c193293709f', 'lat': 20.606344444444, 'long': -100.33111944444, 'id': 167, 'nombre': 'El Marqués', 'codigo': 'EMA', 'redesid': 77, 'date-insert': '2019-04-05T19:15:26.837Z'}, {'_id': '5ca7a94ee2705c19329370a0', 'lat': 20.627625, 'long': -100.40876666667, 'id': 168, 'nombre': 'Epigmenio González', 'codigo': 'EPG', 'redesid': 78, 'date-insert': '2019-04-05T19:15:26.837Z'}, {'_id': '5ca7a94ee2705c19329370a1', 'lat': 20.635125, 'long': -100.45924722222, 'id': 169, 'nombre': 'Félix Osores', 'codigo': 'FEO', 'redesid': 78, 'date-insert': '2019-04-05T19:15:26.837Z'}, {'_id': '5ca7a94ee2705c19329370a2', 'lat': 20.587222222222, 'long': -100.39472222222, 'id': 170, 'nombre': 'Bomberos', 'codigo': 'BOM', 'redesid': 78, 'date-insert': '2019-04-05T19:15:26.837Z'}, {'_id': '5ca7a94ee2705c19329370a3', 'lat': 22.15125, 'long': -100.99611111111, 'id': 171, 'nombre': 'Industriales Potosinos Asociados', 'codigo': 'IPAC', 'redesid': 79, 'date-insert': '2019-04-05T19:15:26.837Z'}, {'_id': '5ca7a94ee2705c19329370a4', 'lat': 22.13175, 'long': -100.97691666667, 'id': 172, 'nombre': 'DIF', 'codigo': 'DIF', 'redesid': 79, 'date-insert': '2019-04-05T19:15:26.837Z'}, {'_id': '5ca7a94ee2705c19329370a5', 'lat': 22.174222222222, 'long': -100.99308333333, 'id': 174, 'nombre': 'Biblioteca', 'codigo': 'BIB', 'redesid': 79, 'date-insert': '2019-04-05T19:15:26.837Z'}, {'_id': '5ca7a94ee2705c19329370a6', 'lat': 23.249861111111, 'long': -106.38522222222, 'id': 179, 'nombre': 'Junta Municipal de Agua Potable', 'codigo': 'EMZT1', 'redesid': 82, 'date-insert': '2019-04-05T19:15:26.837Z'}, {'_id': '5ca7a94ee2705c19329370a7', 'lat': 25.783333333333, 'long': -108.99013888889, 'id': 181, 'nombre': 'DIF Municipal', 'codigo': 'ELM1', 'redesid': 83, 'date-insert': '2019-04-05T19:15:26.837Z'}, {'_id': '5ca7a94ee2705c19329370a8', 'lat': 31.311944444444, 'long': -109.53563888889, 'id': 184, 'nombre': 'Instituto Tecnológico de Agua Prieta', 'codigo': 'TEC', 'redesid': 85, 'date-insert': '2019-04-05T19:15:26.837Z'}, {'_id': '5ca7a94ee2705c19329370aa', 'lat': 27.528444444444, 'long': -109.92586111111, 'id': 185, 'nombre': 'ITESC', 'codigo': 'TEC', 'redesid': 86, 'date-insert': '2019-04-05T19:15:26.856Z'}, {'_id': '5ca7a94ee2705c19329370ab', 'lat': 29.074805555556, 'long': -110.93313888889, 'id': 186, 'nombre': 'Universidad de Sonora', 'codigo': 'USO', 'redesid': 87, 'date-insert': '2019-04-05T19:15:26.856Z'}, {'_id': '5ca7a94ee2705c19329370ac', 'lat': 31.293111111111, 'long': -110.95230555556, 'id': 187, 'nombre': 'Instituto Tecnológico de Nogales', 'codigo': 'TEC', 'redesid': 88, 'date-insert': '2019-04-05T19:15:26.857Z'}, {'_id': '5ca7a94ee2705c19329370ad', 'lat': 18.022933333333, 'long': -92.903219444444, 'id': 192, 'nombre': 'Instituto Tecnológico de Villahermosa', 'codigo': 'ITVH', 'redesid': 93, 'date-insert': '2019-04-05T19:15:26.857Z'}, {'_id': '5ca7a94ee2705c19329370ae', 'lat': 17.988055555556, 'long': -92.939722222222, 'id': 194, 'nombre': 'Secretaria de Educación', 'codigo': 'SE', 'redesid': 93, 'date-insert': '2019-04-05T19:15:26.857Z'}, {'_id': '5ca7a94ee2705c19329370af', 'lat': 19.317583333333, 'long': -98.237305555556, 'id': 220, 'nombre': 'Palacio de Gobierno', 'codigo': 'PGO', 'redesid': 107, 'date-insert': '2019-04-05T19:15:26.857Z'}, {'_id': '5ca7a94ee2705c19329370b0', 'lat': 18.005675, 'long': -94.555336111111, 'id': 234, 'nombre': 'Tecnológico', 'codigo': 'TEC', 'redesid': 114, 'date-insert': '2019-04-05T19:15:26.857Z'}, {'_id': '5ca7a94ee2705c19329370b1', 'lat': 19.530094444444, 'long': -96.881880555556, 'id': 235, 'nombre': 'STPS', 'codigo': 'STP', 'redesid': 115, 'date-insert': '2019-04-05T19:15:26.857Z'}, {'_id': '5ca7a94ee2705c19329370b2', 'lat': 20.973272222222, 'long': -89.624811111111, 'id': 236, 'nombre': 'SEDUMA01', 'codigo': 'CEN', 'redesid': 116, 'date-insert': '2019-04-05T19:15:26.857Z'}, {'_id': '5ca7a94ee2705c19329370b3', 'lat': 19.635555555556, 'long': -98.912222222222, 'id': 240, 'nombre': 'Acolman', 'codigo': 'ACO', 'redesid': 119, 'date-insert': '2019-04-05T19:15:26.857Z'}, {'_id': '5ca7a94ee2705c19329370b4', 'lat': 19.154286111111, 'long': -99.162777777778, 'id': 241, 'nombre': 'Ajusco', 'codigo': 'AJU', 'redesid': 119, 'date-insert': '2019-04-05T19:15:26.857Z'}, {'_id': '5ca7a94ee2705c19329370b5', 'lat': 19.272222222222, 'long': -99.207777777778, 'id': 242, 'nombre': 'Ajusco Medio', 'codigo': 'AJM', 'redesid': 119, 'date-insert': '2019-04-05T19:15:26.857Z'}, {'_id': '5ca7a94ee2705c19329370b6', 'lat': 19.577222222222, 'long': -99.254166666667, 'id': 243, 'nombre': 'Atizapán', 'codigo': 'ATI', 'redesid': 119, 'date-insert': '2019-04-05T19:15:26.858Z'}, {'_id': '5ca7a94ee2705c19329370b7', 'lat': 19.468611111111, 'long': -99.17, 'id': 244, 'nombre': 'Camarones', 'codigo': 'CAM', 'redesid': 119, 'date-insert': '2019-04-05T19:15:26.858Z'}, {'_id': '5ca7a94ee2705c19329370b8', 'lat': 19.326388888889, 'long': -99.176111111111, 'id': 245, 'nombre': 'Centro de Ciencias de la Atmósfera', 'codigo': 'CCA', 'redesid': 119, 'date-insert': '2019-04-05T19:15:26.858Z'}, {'_id': '5ca7a94ee2705c19329370b9', 'lat': 19.267222222222, 'long': -98.886111111111, 'id': 246, 'nombre': 'Chalco', 'codigo': 'CHO', 'redesid': 119, 'date-insert': '2019-04-05T19:15:26.858Z'}, {'_id': '5ca7a94ee2705c19329370ba', 'lat': 19.350277777778, 'long': -99.157222222222, 'id': 247, 'nombre': 'Coyoacán', 'codigo': 'COY', 'redesid': 119, 'date-insert': '2019-04-05T19:15:26.858Z'}, {'_id': '5ca7a94ee2705c19329370bb', 'lat': 19.365555555556, 'long': -99.291944444444, 'id': 248, 'nombre': 'Cuajimalpa', 'codigo': 'CUA', 'redesid': 119, 'date-insert': '2019-04-05T19:15:26.858Z'}, {'_id': '5ca7a94ee2705c19329370bc', 'lat': 19.722222222222, 'long': -99.198611111111, 'id': 249, 'nombre': 'Cuautitlán', 'codigo': 'CUT', 'redesid': 119, 'date-insert': '2019-04-05T19:15:26.860Z'}, {'_id': '5ca7a94ee2705c19329370bd', 'lat': 19.4825, 'long': -99.243611111111, 'id': 250, 'nombre': 'FES Acatlán', 'codigo': 'FAC', 'redesid': 119, 'date-insert': '2019-04-05T19:15:26.860Z'}, {'_id': '5ca7a94ee2705c19329370be', 'lat': 19.411666666667, 'long': -99.152222222222, 'id': 251, 'nombre': 'Hospital General de México', 'codigo': 'HGM', 'redesid': 119, 'date-insert': '2019-04-05T19:15:26.861Z'}, {'_id': '5ca7a94ee2705c19329370bf', 'lat': 19.384444444444, 'long': -99.117777777778, 'id': 252, 'nombre': 'Iztacalco', 'codigo': 'IZT', 'redesid': 119, 'date-insert': '2019-04-05T19:15:26.861Z'}, {'_id': '5ca7a94ee2705c19329370c0', 'lat': 19.535, 'long': -99.117777777778, 'id': 253, 'nombre': 'La Presa', 'codigo': 'LPR', 'redesid': 119, 'date-insert': '2019-04-05T19:15:26.861Z'}, {'_id': '5ca7a94ee2705c19329370c1', 'lat': 19.578888888889, 'long': -99.039722222222, 'id': 254, 'nombre': 'Los Laureles', 'codigo': 'LLA', 'redesid': 119, 'date-insert': '2019-04-05T19:15:26.861Z'}, {'_id': '5ca7a94ee2705c19329370c2', 'lat': 19.424722222222, 'long': -99.119722222222, 'id': 256, 'nombre': 'Merced', 'codigo': 'MER', 'redesid': 119, 'date-insert': '2019-04-05T19:15:26.861Z'}, {'_id': '5ca7a94ee2705c19329370c3', 'lat': 19.460416666667, 'long': -98.902861111111, 'id': 257, 'nombre': 'Montecillo', 'codigo': 'MON', 'redesid': 119, 'date-insert': '2019-04-05T19:15:26.861Z'}, {'_id': '5ca7a94ee2705c19329370c4', 'lat': 19.393888888889, 'long': -99.028333333333, 'id': 258, 'nombre': 'Nezahualcóyotl', 'codigo': 'NEZ', 'redesid': 119, 'date-insert': '2019-04-05T19:15:26.861Z'}, {'_id': '5ca7a94ee2705c19329370c5', 'lat': 19.325277777778, 'long': -99.204166666667, 'id': 259, 'nombre': 'Pedregal', 'codigo': 'PED', 'redesid': 119, 'date-insert': '2019-04-05T19:15:26.862Z'}, {'_id': '5ca7a94ee2705c19329370c6', 'lat': 19.533055555556, 'long': -99.030555555556, 'id': 260, 'nombre': 'San Agustín', 'codigo': 'SAG', 'redesid': 119, 'date-insert': '2019-04-05T19:15:26.862Z'}, {'_id': '5ca7a94ee2705c19329370c7', 'lat': 19.3575, 'long': -99.263055555556, 'id': 262, 'nombre': 'Santa Fe', 'codigo': 'SFE', 'redesid': 119, 'date-insert': '2019-04-05T19:15:26.862Z'}, {'_id': '5ca7a94ee2705c19329370c8', 'lat': 19.404, 'long': -99.202722222222, 'id': 263, 'nombre': 'Miguel Hidalgo', 'codigo': 'MGH', 'redesid': 119, 'date-insert': '2019-04-05T19:15:26.862Z'}, {'_id': '5ca7a94ee2705c19329370c9', 'lat': 19.246666666667, 'long': -99.010833333333, 'id': 265, 'nombre': 'Tlahuac', 'codigo': 'TAH', 'redesid': 119, 'date-insert': '2019-04-05T19:15:26.862Z'}, {'_id': '5ca7a94ee2705c19329370ca', 'lat': 19.529166666667, 'long': -99.204722222222, 'id': 266, 'nombre': 'Tlalnepantla', 'codigo': 'TLA', 'redesid': 119, 'date-insert': '2019-04-05T19:15:26.862Z'}, {'_id': '5ca7a94ee2705c19329370cb', 'lat': 19.602777777778, 'long': -99.177222222222, 'id': 267, 'nombre': 'Tultitlán', 'codigo': 'TLI', 'redesid': 119, 'date-insert': '2019-04-05T19:15:26.863Z'}, {'_id': '5ca7a94ee2705c19329370cc', 'lat': 19.360833333333, 'long': -99.073888888889, 'id': 268, 'nombre': 'UAM Iztapalapa', 'codigo': 'UIZ', 'redesid': 119, 'date-insert': '2019-04-05T19:15:26.863Z'}, {'_id': '5ca7a94ee2705c19329370cd', 'lat': 19.304444444444, 'long': -99.103888888889, 'id': 269, 'nombre': 'UAM Xochimilco', 'codigo': 'UAX', 'redesid': 119, 'date-insert': '2019-04-05T19:15:26.863Z'}, {'_id': '5ca7a94ee2705c19329370ce', 'lat': 19.6575, 'long': -99.096666666667, 'id': 270, 'nombre': 'Villa de las Flores', 'codigo': 'VIF', 'redesid': 119, 'date-insert': '2019-04-05T19:15:26.863Z'}, {'_id': '5ca7a94ee2705c19329370cf', 'lat': 19.526111111111, 'long': -99.0825, 'id': 271, 'nombre': 'Xalostoc', 'codigo': 'XAL', 'redesid': 119, 'date-insert': '2019-04-05T19:15:26.863Z'}, {'_id': '5ca7a94ee2705c19329370d0', 'lat': 20.508972222222, 'long': -97.446986111111, 'id': 291, 'nombre': 'Universidad Veracruzana', 'codigo': 'PR-03', 'redesid': 120, 'date-insert': '2019-04-05T19:15:26.863Z'}, {'_id': '5ca7a94ee2705c19329370d1', 'lat': 20.08525, 'long': -98.366638888889, 'id': 292, 'nombre': 'Tulancingo', 'codigo': 'TLN', 'redesid': 121, 'date-insert': '2019-04-05T19:15:26.863Z'}, {'_id': '5ca7a94ee2705c19329370d2', 'lat': 16.850330555556, 'long': -99.903738888889, 'id': 293, 'nombre': 'Protección Civil', 'codigo': 'PC', 'redesid': 122, 'date-insert': '2019-04-05T19:15:26.863Z'}, {'_id': '5ca7a94ee2705c19329370d3', 'lat': 22.774797222222, 'long': -102.57445833333, 'id': 294, 'nombre': 'Explanada del Congreso', 'codigo': 'CDA', 'redesid': 118, 'date-insert': '2019-04-05T19:15:26.863Z'}, {'_id': '5ca7a94ee2705c19329370d4', 'lat': 17.094666666667, 'long': -96.752166666667, 'id': 297, 'nombre': 'Casa Hogar', 'codigo': 'CHO', 'redesid': 73, 'date-insert': '2019-04-05T19:15:26.863Z'}, {'_id': '5ca7a94ee2705c19329370d5', 'lat': 19.199166666667, 'long': -99.010833333333, 'id': 299, 'nombre': 'Milpa Alta', 'codigo': 'MPA', 'redesid': 119, 'date-insert': '2019-04-05T19:15:26.863Z'}, {'_id': '5ca7a94ee2705c19329370d6', 'lat': 19.371666666667, 'long': -99.159166666667, 'id': 300, 'nombre': 'Benito Juárez', 'codigo': 'BJU', 'redesid': 119, 'date-insert': '2019-04-05T19:15:26.863Z'}, {'_id': '5ca7a94ee2705c19329370d7', 'lat': 19.292222222222, 'long': -99.380555555556, 'id': 301, 'nombre': 'Instituto Nacional de Investigaciones Nucleares', 'codigo': 'INN', 'redesid': 119, 'date-insert': '2019-04-05T19:15:26.863Z'}, {'_id': '5ca7a94ee2705c19329370d8', 'lat': 19.482777777778, 'long': -99.094722222222, 'id': 302, 'nombre': 'Gustavo A. Madero', 'codigo': 'GAM', 'redesid': 119, 'date-insert': '2019-04-05T19:15:26.863Z'}, {'_id': '5ca7a94ee2705c19329370d9', 'lat': 21.903, 'long': -102.28461111111, 'id': 303, 'nombre': 'Instituto Educativo', 'codigo': 'IED', 'redesid': 30, 'date-insert': '2019-04-05T19:15:26.863Z'}, {'_id': '5ca7a94ee2705c19329370da', 'lat': 25.421472222222, 'long': -100.99686111111, 'id': 304, 'nombre': 'Finanzas', 'codigo': 'FIN', 'redesid': 123, 'date-insert': '2019-04-05T19:15:26.863Z'}, {'_id': '5ca7a94ee2705c19329370db', 'lat': 26.908194444444, 'long': -101.427, 'id': 305, 'nombre': 'Jurisdicción Sanitaria', 'codigo': 'JUR', 'redesid': 124, 'date-insert': '2019-04-05T19:15:26.863Z'}, {'_id': '5ca7a94ee2705c19329370dc', 'lat': 28.707666666667, 'long': -100.5265, 'id': 306, 'nombre': 'Centro de Rehabilitación DIF', 'codigo': 'DIF', 'redesid': 125, 'date-insert': '2019-04-05T19:15:26.863Z'}, {'_id': '5ca7a94ee2705c19329370dd', 'lat': 19.336555555556, 'long': -99.075111111111, 'id': 317, 'nombre': 'Cerro de la estrella', 'codigo': 'CES', 'redesid': 119, 'date-insert': '2019-04-05T19:15:26.863Z'}, {'_id': '5ca7a94ee2705c19329370de', 'lat': 19.423055555556, 'long': -99.084722222222, 'id': 320, 'nombre': 'Hangares', 'codigo': 'HAN', 'redesid': 119, 'date-insert': '2019-04-05T19:15:26.864Z'}, {'_id': '5ca7a94ee2705c19329370df', 'lat': 19.469708333333, 'long': -99.117922222222, 'id': 325, 'nombre': 'La Villa', 'codigo': 'LVI', 'redesid': 119, 'date-insert': '2019-04-05T19:15:26.864Z'}, {'_id': '5ca7a94ee2705c19329370e0', 'lat': 19.367027777778, 'long': -99.200104722222, 'id': 332, 'nombre': 'Plateros', 'codigo': 'PLA', 'redesid': 119, 'date-insert': '2019-04-05T19:15:26.864Z'}, {'_id': '5ca7a94ee2705c19329370e1', 'lat': 25.544416666667, 'long': -103.4295, 'id': 340, 'nombre': 'Hospital Infantil', 'codigo': 'HOS', 'redesid': 113, 'date-insert': '2019-04-05T19:15:26.864Z'}, {'_id': '5ca7a94ee2705c19329370e2', 'lat': 25.539194444444, 'long': -103.52322222222, 'id': 342, 'nombre': 'Lerdo', 'codigo': 'LE', 'redesid': 44, 'date-insert': '2019-04-05T19:15:26.864Z'}, {'_id': '5ca7a94ee2705c19329370e3', 'lat': 20.914755555556, 'long': -100.74380555556, 'id': 352, 'nombre': 'Presidencia Municipal', 'codigo': 'PRE-SMA', 'redesid': 130, 'date-insert': '2019-04-05T19:15:26.864Z'}, {'_id': '5ca7a94ee2705c19329370e4', 'lat': 20.425277777778, 'long': -101.19805555556, 'id': 356, 'nombre': 'Presidencia Municipal', 'codigo': 'ABA', 'redesid': 134, 'date-insert': '2019-04-05T19:15:26.864Z'}, {'_id': '5ca7a94ee2705c19329370e5', 'lat': 21.295861111111, 'long': -100.52330555556, 'id': 358, 'nombre': 'Presidencia Municipal', 'codigo': 'SLP', 'redesid': 136, 'date-insert': '2019-04-05T19:15:26.864Z'}, {'_id': '5ca7a94ee2705c19329370e6', 'lat': 21.017583333333, 'long': -101.25736111111, 'id': 359, 'nombre': 'Universidad Gto Sede Belen', 'codigo': 'UG-B', 'redesid': 137, 'date-insert': '2019-04-05T19:15:26.864Z'}, {'_id': '5ca7a94ee2705c19329370e7', 'lat': 0, 'long': 0, 'id': 369, 'nombre': 'Instituto Tecnológico de Mexicali\\xa0', 'codigo': 'SPABC10', 'redesid': 32, 'date-insert': '2019-04-05T19:15:26.864Z'}, {'_id': '5ca7a94ee2705c19329370e8', 'lat': 0, 'long': 0, 'id': 371, 'nombre': 'UABC', 'codigo': 'SPABC12', 'redesid': 32, 'date-insert': '2019-04-05T19:15:26.864Z'}, {'_id': '5ca7a94ee2705c19329370e9', 'lat': 31.859916666667, 'long': -116.59372222222, 'id': 373, 'nombre': 'Secundaria No. 9', 'codigo': 'SPABC20', 'redesid': 31, 'date-insert': '2019-04-05T19:15:26.864Z'}, {'_id': '5ca7a94ee2705c19329370ea', 'lat': 32.530988888889, 'long': -116.98601111111, 'id': 376, 'nombre': 'Instituto Tecnológico de Tijuana\\xa0', 'codigo': 'SPABC01', 'redesid': 35, 'date-insert': '2019-04-05T19:15:26.864Z'}, {'_id': '5ca7a94ee2705c19329370eb', 'lat': 32.568825, 'long': -116.62688055556, 'id': 379, 'nombre': 'Tecate', 'codigo': 'SPABC23', 'redesid': 34, 'date-insert': '2019-04-05T19:15:26.864Z'}, {'_id': '5ca7a94ee2705c19329370ec', 'lat': 19.701388888889, 'long': -101.195, 'id': 388, 'nombre': 'Palacio Municipal', 'codigo': 'ECH', 'redesid': 66, 'date-insert': '2019-04-05T19:15:26.864Z'}, {'_id': '5ca7a94ee2705c19329370ed', 'lat': 19.314444444444, 'long': -99.150055555556, 'id': 400, 'nombre': 'Santa Ursula', 'codigo': 'SUR', 'redesid': 119, 'date-insert': '2019-04-05T19:15:26.864Z'}, {'_id': '5ca7a94ee2705c19329370ee', 'lat': 34.57, 'long': -115.34888888889, 'id': 402, 'nombre': 'Campestre', 'codigo': 'SPABC18', 'redesid': 32, 'date-insert': '2019-04-05T19:15:26.864Z'}, {'_id': '5ca7a94ee2705c19329370ef', 'lat': 0, 'long': 0, 'id': 403, 'nombre': 'Centro de bachillerato', 'codigo': 'SPABC13', 'redesid': 32, 'date-insert': '2019-04-05T19:15:26.864Z'}, {'_id': '5ca7a94ee2705c19329370f0', 'lat': 0, 'long': 0, 'id': 405, 'nombre': 'Las Playas', 'codigo': 'PLA', 'redesid': 35, 'date-insert': '2019-04-05T19:15:26.864Z'}, {'_id': '5ca7a94ee2705c19329370f1', 'lat': 19.071888888889, 'long': -98.151722222222, 'id': 406, 'nombre': 'Universidad Tecnológica de Puebla', 'codigo': 'UTP', 'redesid': 74, 'date-insert': '2019-04-05T19:15:26.864Z'}, {'_id': '5ca7a94ee2705c19329370f2', 'lat': 20.61475, 'long': -100.42430555556, 'id': 408, 'nombre': 'Delegación Carrillo', 'codigo': 'CAP', 'redesid': 78, 'date-insert': '2019-04-05T19:15:26.864Z'}, {'_id': '5ca7a94ee2705c19329370f3', 'lat': 20.584805555556, 'long': -100.37752777778, 'id': 409, 'nombre': 'Auditorio Josefa Ortíz', 'codigo': 'AJO', 'redesid': 78, 'date-insert': '2019-04-05T19:15:26.865Z'}, {'_id': '5ca7a94ee2705c19329370f4', 'lat': 20.389444444444, 'long': -99.972972222222, 'id': 410, 'nombre': 'Universidad Autónoma de Querétaro', 'codigo': 'SJU', 'redesid': 146, 'date-insert': '2019-04-05T19:15:26.865Z'}, {'_id': '5ca7a94ee2705c19329370f5', 'lat': 24.807111111111, 'long': -107.39383333333, 'id': 411, 'nombre': 'Culiacan', 'codigo': 'ECLN1', 'redesid': 80, 'date-insert': '2019-04-05T19:15:26.865Z'}, {'_id': '5ca7a94ee2705c19329370f6', 'lat': 21.040238888889, 'long': -101.87628333333, 'id': 423, 'nombre': 'Purísima del Rincón', 'codigo': 'PUR', 'redesid': 149, 'date-insert': '2019-04-05T19:15:26.865Z'}, {'_id': '5ca7a94ee2705c19329370f7', 'lat': 25.600555555556, 'long': -99.994166666667, 'id': 424, 'nombre': 'Cadereyta', 'codigo': 'SE3', 'redesid': 72, 'date-insert': '2019-04-05T19:15:26.865Z'}, {'_id': '5ca7a94ee2705c19329370f8', 'lat': 25.73, 'long': -100.30972222222, 'id': 425, 'nombre': 'Universidad', 'codigo': 'N2', 'redesid': 72, 'date-insert': '2019-04-05T19:15:26.865Z'}, {'_id': '5ca7a94ee2705c19329370f9', 'lat': 25.575277777778, 'long': -100.24916666667, 'id': 426, 'nombre': 'Pueblo Serena', 'codigo': 'SUR', 'redesid': 72, 'date-insert': '2019-04-05T19:15:26.865Z'}, {'_id': '5ca7a94ee2705c19329370fa', 'lat': 22.159444444444, 'long': -100.95333333333, 'id': 427, 'nombre': 'Escuela Primaria 1° de mayo', 'codigo': 'PRIM', 'redesid': 79, 'date-insert': '2019-04-05T19:15:26.865Z'}, {'_id': '5ca7a94ee2705c19329370fb', 'lat': 31.743333333333, 'long': -106.43166666667, 'id': 428, 'nombre': 'Instituto de Ingeniería y Tecnología', 'codigo': 'IIT', 'redesid': 150, 'date-insert': '2019-04-05T19:15:26.865Z'}, {'_id': '5ca7a94ee2705c19329370fc', 'lat': 25.571916666667, 'long': -103.49780555556, 'id': 430, 'nombre': 'Parque La Esperanza', 'codigo': 'ESP', 'redesid': 43, 'date-insert': '2019-04-05T19:15:26.865Z'}, {'_id': '5ca7a94ee2705c19329370fd', 'lat': 19.473691944444, 'long': -99.046175833333, 'id': 431, 'nombre': 'FES Aragón', 'codigo': 'FAR', 'redesid': 119, 'date-insert': '2019-04-05T19:15:26.865Z'}, {'_id': '5ca7a94ee2705c19329370fe', 'lat': 19.34561, 'long': -99.009380833333, 'id': 432, 'nombre': 'Santiago Acahualtepec', 'codigo': 'SAC', 'redesid': 119, 'date-insert': '2019-04-05T19:15:26.865Z'}]}\n"
     ]
    }
   ],
   "source": [
    "# Now, retrieve all stations and locations in the country by calling the air quality API provided.\n",
    "# The dependencie used is datosgobmx input at the beginning of the notebook.\n",
    "params_estaciones = client.makeCall('sinaica-estaciones', {'pageSize':200})"
   ]
  },
  {
   "cell_type": "code",
   "execution_count": 14,
   "metadata": {},
   "outputs": [
    {
     "data": {
      "text/html": [
       "<div>\n",
       "<style>\n",
       "    .dataframe thead tr:only-child th {\n",
       "        text-align: right;\n",
       "    }\n",
       "\n",
       "    .dataframe thead th {\n",
       "        text-align: left;\n",
       "    }\n",
       "\n",
       "    .dataframe tbody tr th {\n",
       "        vertical-align: top;\n",
       "    }\n",
       "</style>\n",
       "<table border=\"1\" class=\"dataframe\">\n",
       "  <thead>\n",
       "    <tr style=\"text-align: right;\">\n",
       "      <th></th>\n",
       "      <th>_id</th>\n",
       "      <th>lat</th>\n",
       "      <th>long</th>\n",
       "      <th>id</th>\n",
       "      <th>nombre</th>\n",
       "      <th>codigo</th>\n",
       "      <th>redesid</th>\n",
       "      <th>date-insert</th>\n",
       "    </tr>\n",
       "  </thead>\n",
       "  <tbody>\n",
       "    <tr>\n",
       "      <th>0</th>\n",
       "      <td>5ca7a94ee2705c1932937045</td>\n",
       "      <td>21.8733</td>\n",
       "      <td>-102.321</td>\n",
       "      <td>31</td>\n",
       "      <td>CBTIS</td>\n",
       "      <td>CBT</td>\n",
       "      <td>30</td>\n",
       "      <td>2019-04-05 19:15:26.824</td>\n",
       "    </tr>\n",
       "    <tr>\n",
       "      <th>1</th>\n",
       "      <td>5ca7a94ee2705c1932937046</td>\n",
       "      <td>21.8464</td>\n",
       "      <td>-102.288</td>\n",
       "      <td>32</td>\n",
       "      <td>Secretaría de Medio Ambiente</td>\n",
       "      <td>SMA</td>\n",
       "      <td>30</td>\n",
       "      <td>2019-04-05 19:15:26.828</td>\n",
       "    </tr>\n",
       "    <tr>\n",
       "      <th>2</th>\n",
       "      <td>5ca7a94ee2705c1932937047</td>\n",
       "      <td>21.8838</td>\n",
       "      <td>-102.296</td>\n",
       "      <td>33</td>\n",
       "      <td>Centro</td>\n",
       "      <td>CEN</td>\n",
       "      <td>30</td>\n",
       "      <td>2019-04-05 19:15:26.828</td>\n",
       "    </tr>\n",
       "    <tr>\n",
       "      <th>3</th>\n",
       "      <td>5ca7a94ee2705c1932937048</td>\n",
       "      <td>32.6397</td>\n",
       "      <td>-115.506</td>\n",
       "      <td>39</td>\n",
       "      <td>COBACH</td>\n",
       "      <td>SPABC14</td>\n",
       "      <td>32</td>\n",
       "      <td>2019-04-05 19:15:26.828</td>\n",
       "    </tr>\n",
       "    <tr>\n",
       "      <th>4</th>\n",
       "      <td>5ca7a94ee2705c1932937049</td>\n",
       "      <td>32.6036</td>\n",
       "      <td>-115.486</td>\n",
       "      <td>41</td>\n",
       "      <td>CESPM</td>\n",
       "      <td>SPABC19</td>\n",
       "      <td>32</td>\n",
       "      <td>2019-04-05 19:15:26.828</td>\n",
       "    </tr>\n",
       "  </tbody>\n",
       "</table>\n",
       "</div>"
      ],
      "text/plain": [
       "                        _id      lat     long  id  \\\n",
       "0  5ca7a94ee2705c1932937045  21.8733 -102.321  31   \n",
       "1  5ca7a94ee2705c1932937046  21.8464 -102.288  32   \n",
       "2  5ca7a94ee2705c1932937047  21.8838 -102.296  33   \n",
       "3  5ca7a94ee2705c1932937048  32.6397 -115.506  39   \n",
       "4  5ca7a94ee2705c1932937049  32.6036 -115.486  41   \n",
       "\n",
       "                         nombre   codigo redesid             date-insert  \n",
       "0                        CBTIS       CBT      30 2019-04-05 19:15:26.824  \n",
       "1  Secretaría de Medio Ambiente      SMA      30 2019-04-05 19:15:26.828  \n",
       "2                        Centro      CEN      30 2019-04-05 19:15:26.828  \n",
       "3                        COBACH  SPABC14      32 2019-04-05 19:15:26.828  \n",
       "4                         CESPM  SPABC19      32 2019-04-05 19:15:26.828  "
      ]
     },
     "execution_count": 14,
     "metadata": {},
     "output_type": "execute_result"
    }
   ],
   "source": [
    "# Create a DataFrame of this stations. \n",
    "stations_params = []\n",
    "for v in params_estaciones['results']:\n",
    "    aux = pd.DataFrame.from_dict(v, orient='index').T\n",
    "    stations_params.append(aux)\n",
    "\n",
    "stations_params = pd.concat(stations_params, ignore_index=True)\n",
    "stations_params['date-insert'] = pd.to_datetime(stations_params['date-insert'])\n",
    "stations_params.head()"
   ]
  },
  {
   "cell_type": "markdown",
   "metadata": {},
   "source": [
    "This DataFrame shows every station in the Country (total of 185). We have to perform some operations to get the stations that are still operating in Mexico City.\n",
    "\n",
    "This will be made by using the list of operating stations created in the first part of the notebook."
   ]
  },
  {
   "cell_type": "code",
   "execution_count": 15,
   "metadata": {
    "collapsed": true
   },
   "outputs": [],
   "source": [
    "# Select rows whose column value is in OPERATING STATIONS list. \n",
    "stations_params.to_csv('Outputs/data_stations_sinaica.csv')\n",
    "stations_params = stations_params.loc[stations_params['codigo'].isin(active_stations_list)]\n",
    "operating_stations_params_df = stations_params.iloc[16:]"
   ]
  },
  {
   "cell_type": "code",
   "execution_count": 16,
   "metadata": {},
   "outputs": [
    {
     "name": "stdout",
     "output_type": "stream",
     "text": [
      "['SUR', 'TEC', 'CAM', 'SAG', 'TEC', 'ATI', 'SFE', 'TLA', 'TEC', 'TEC', 'TEC', 'COR', 'TEC', 'TEC', 'TEC', 'TEC', 'ACO', 'AJU', 'AJM', 'ATI', 'CAM', 'CCA', 'CHO', 'COY', 'CUA', 'CUT', 'FAC', 'HGM', 'IZT', 'LPR', 'LLA', 'MER', 'MON', 'NEZ', 'PED', 'SAG', 'SFE', 'MGH', 'TAH', 'TLA', 'TLI', 'UIZ', 'UAX', 'VIF', 'XAL', 'CHO', 'MPA', 'INN', 'GAM', 'SUR', 'SUR', 'FAR', 'SAC']\n"
     ]
    }
   ],
   "source": [
    "stations_codes_list = stations_params['codigo'].tolist()\n",
    "print(stations_codes_list)"
   ]
  },
  {
   "cell_type": "code",
   "execution_count": 17,
   "metadata": {},
   "outputs": [
    {
     "data": {
      "text/html": [
       "<div>\n",
       "<style>\n",
       "    .dataframe thead tr:only-child th {\n",
       "        text-align: right;\n",
       "    }\n",
       "\n",
       "    .dataframe thead th {\n",
       "        text-align: left;\n",
       "    }\n",
       "\n",
       "    .dataframe tbody tr th {\n",
       "        vertical-align: top;\n",
       "    }\n",
       "</style>\n",
       "<table border=\"1\" class=\"dataframe\">\n",
       "  <thead>\n",
       "    <tr style=\"text-align: right;\">\n",
       "      <th></th>\n",
       "      <th>Lat</th>\n",
       "      <th>Lng</th>\n",
       "      <th>id</th>\n",
       "      <th>Name</th>\n",
       "      <th>Key</th>\n",
       "    </tr>\n",
       "  </thead>\n",
       "  <tbody>\n",
       "    <tr>\n",
       "      <th>109</th>\n",
       "      <td>19.6356</td>\n",
       "      <td>-98.9122</td>\n",
       "      <td>240</td>\n",
       "      <td>Acolman</td>\n",
       "      <td>ACO</td>\n",
       "    </tr>\n",
       "    <tr>\n",
       "      <th>110</th>\n",
       "      <td>19.1543</td>\n",
       "      <td>-99.1628</td>\n",
       "      <td>241</td>\n",
       "      <td>Ajusco</td>\n",
       "      <td>AJU</td>\n",
       "    </tr>\n",
       "    <tr>\n",
       "      <th>111</th>\n",
       "      <td>19.2722</td>\n",
       "      <td>-99.2078</td>\n",
       "      <td>242</td>\n",
       "      <td>Ajusco Medio</td>\n",
       "      <td>AJM</td>\n",
       "    </tr>\n",
       "    <tr>\n",
       "      <th>112</th>\n",
       "      <td>19.5772</td>\n",
       "      <td>-99.2542</td>\n",
       "      <td>243</td>\n",
       "      <td>Atizapán</td>\n",
       "      <td>ATI</td>\n",
       "    </tr>\n",
       "    <tr>\n",
       "      <th>113</th>\n",
       "      <td>19.4686</td>\n",
       "      <td>-99.17</td>\n",
       "      <td>244</td>\n",
       "      <td>Camarones</td>\n",
       "      <td>CAM</td>\n",
       "    </tr>\n",
       "  </tbody>\n",
       "</table>\n",
       "</div>"
      ],
      "text/plain": [
       "         Lat      Lng   id          Name  Key\n",
       "109  19.6356 -98.9122  240       Acolman  ACO\n",
       "110  19.1543 -99.1628  241        Ajusco  AJU\n",
       "111  19.2722 -99.2078  242  Ajusco Medio  AJM\n",
       "112  19.5772 -99.2542  243      Atizapán  ATI\n",
       "113  19.4686   -99.17  244     Camarones  CAM"
      ]
     },
     "execution_count": 17,
     "metadata": {},
     "output_type": "execute_result"
    }
   ],
   "source": [
    "# Keep operating stations in the DataFrame.\n",
    "operating_stations_df = operating_stations_params_df.drop([142,179])\n",
    "\n",
    "# Keep and rename wanted to columns for better understanding.\n",
    "operating_stations_df = operating_stations_df[['lat', 'long', 'id', 'nombre', 'codigo']]\n",
    "operating_stations_df = operating_stations_df.rename(columns={'lat'  : 'Lat',\n",
    "                                                              'long' : 'Lng',\n",
    "                                                              'id' : 'id',\n",
    "                                                              'nombre' : 'Name',\n",
    "                                                              'codigo' : 'Key'\n",
    "})\n",
    "operating_stations_df.head()"
   ]
  },
  {
   "cell_type": "code",
   "execution_count": 18,
   "metadata": {},
   "outputs": [
    {
     "data": {
      "text/plain": [
       "Lat     35\n",
       "Lng     35\n",
       "id      35\n",
       "Name    35\n",
       "Key     35\n",
       "dtype: int64"
      ]
     },
     "execution_count": 18,
     "metadata": {},
     "output_type": "execute_result"
    }
   ],
   "source": [
    "# Resuming: Active Stations in the API\n",
    "operating_stations_df.count()"
   ]
  },
  {
   "cell_type": "markdown",
   "metadata": {},
   "source": [
    "* The next step in this Notebook is to bring all parameters measured by each station. We have found that not every staion meaures all parameters. Then we need to see which station measures which parameter to help us visualize and have a strong analysis when we compare and study the rest of the data."
   ]
  },
  {
   "cell_type": "code",
   "execution_count": 19,
   "metadata": {},
   "outputs": [
    {
     "data": {
      "text/plain": [
       "['CO', 'O3', 'PM10', 'SO2', 'NO2', 'PM2.5', 'TMP']"
      ]
     },
     "execution_count": 19,
     "metadata": {},
     "output_type": "execute_result"
    }
   ],
   "source": [
    "# First, store params measured in a list.\n",
    "params_list = params_measured['parametro'].tolist()\n",
    "params_list"
   ]
  },
  {
   "cell_type": "code",
   "execution_count": 20,
   "metadata": {},
   "outputs": [
    {
     "data": {
      "text/html": [
       "<div>\n",
       "<style>\n",
       "    .dataframe thead tr:only-child th {\n",
       "        text-align: right;\n",
       "    }\n",
       "\n",
       "    .dataframe thead th {\n",
       "        text-align: left;\n",
       "    }\n",
       "\n",
       "    .dataframe tbody tr th {\n",
       "        vertical-align: top;\n",
       "    }\n",
       "</style>\n",
       "<table border=\"1\" class=\"dataframe\">\n",
       "  <thead>\n",
       "    <tr style=\"text-align: right;\">\n",
       "      <th></th>\n",
       "      <th>id</th>\n",
       "      <th>Name</th>\n",
       "    </tr>\n",
       "  </thead>\n",
       "  <tbody>\n",
       "    <tr>\n",
       "      <th>0</th>\n",
       "      <td>240</td>\n",
       "      <td>Acolman</td>\n",
       "    </tr>\n",
       "    <tr>\n",
       "      <th>1</th>\n",
       "      <td>241</td>\n",
       "      <td>Ajusco</td>\n",
       "    </tr>\n",
       "    <tr>\n",
       "      <th>2</th>\n",
       "      <td>242</td>\n",
       "      <td>Ajusco Medio</td>\n",
       "    </tr>\n",
       "    <tr>\n",
       "      <th>3</th>\n",
       "      <td>243</td>\n",
       "      <td>Atizapán</td>\n",
       "    </tr>\n",
       "    <tr>\n",
       "      <th>4</th>\n",
       "      <td>244</td>\n",
       "      <td>Camarones</td>\n",
       "    </tr>\n",
       "  </tbody>\n",
       "</table>\n",
       "</div>"
      ],
      "text/plain": [
       "    id          Name\n",
       "0  240       Acolman\n",
       "1  241        Ajusco\n",
       "2  242  Ajusco Medio\n",
       "3  243      Atizapán\n",
       "4  244     Camarones"
      ]
     },
     "execution_count": 20,
     "metadata": {},
     "output_type": "execute_result"
    }
   ],
   "source": [
    "# Store operating stations in a list.\n",
    "stations_id = operating_stations_df['id'].tolist()\n",
    "stations_names = operating_stations_df['Name'].tolist()\n",
    "\n",
    "# Create a DataFrame with id and name of stations.\n",
    "list_of_tuples = list(zip(stations_id, stations_names))\n",
    "id_names_df = pd.DataFrame(list_of_tuples, columns = ['id', 'Name'])\n",
    "id_names_df.head()"
   ]
  },
  {
   "cell_type": "markdown",
   "metadata": {
    "collapsed": true
   },
   "source": [
    "***"
   ]
  },
  {
   "cell_type": "markdown",
   "metadata": {},
   "source": [
    "Now, we need to make calls to bring the parameters measured by each stations. These calls are made in real-time so it brings the last measured get in the data.\n",
    "\n",
    "To make a call for this we use the next structure:\n",
    "* client.makeCall('sinaica', {'pageSize':5000, 'parametro':'O3', 'estacionesid':259, 'page':1})\n",
    "\n",
    "Where, **pageSize** is the number of results we want, **parametro** is the parameter we wanto to see the measure, **estacionesid** is the id of the station we want to see, and **page** is the number of the json page we want to bring in case we want to retrieve historical data.\n",
    "\n",
    "If, no paramenter brought means station doesn't take that measured. Then it will no be added to the DataFrame.\n",
    "\n",
    "Using this code it takes to much time to get the data. However, we can make calls and bring just 1 result for each parameter and station. We do this, because we just want thetype of parameters measured by each station."
   ]
  },
  {
   "cell_type": "markdown",
   "metadata": {},
   "source": [
    "## Retrieve one measure for each station and paramenter."
   ]
  },
  {
   "cell_type": "code",
   "execution_count": 21,
   "metadata": {
    "collapsed": true
   },
   "outputs": [],
   "source": [
    "# CODE to get stations and params.\n",
    "guard = 0\n",
    "if guard == 1:\n",
    "    \n",
    "    params_and_stations_o3 = []    \n",
    "    for e in stations_id:\n",
    "        data_api = client.makeCall('sinaica', {'pageSize':1, 'parametro':'O3', 'estacionesid':e, 'page':3})\n",
    "        \n",
    "        for v in data_api['results']:\n",
    "            aux = pd.DataFrame.from_dict(v, orient='index').T\n",
    "            params_and_stations_o3.append(aux)\n",
    "    \n",
    "    params_and_stations_o3 = pd.concat(params_and_stations_o3, ignore_index=True)"
   ]
  },
  {
   "cell_type": "markdown",
   "metadata": {
    "collapsed": true
   },
   "source": [
    "\n",
    "params_and_stations_co = []\n",
    "\n",
    "for e in stations_id:\n",
    "    \n",
    "    data_api = client.makeCall('sinaica', {'pageSize':1, 'parametro':'XX', 'estacionesid':e, 'page':3})\n",
    "    \n",
    "    for v in data_api['results']:\n",
    "        aux = pd.DataFrame.from_dict(v, orient='index').T\n",
    "        params_and_stations_co.append(aux)\n",
    "    \n",
    "params_and_stations_XX = pd.concat(params_and_stations_co, ignore_index=True)\n",
    "\n",
    "Note: We need to run this loop 7 times, changing each time XX to the corresponding parameter in: ['CO', 'O3', 'PM10', 'SO2', 'NO2', 'PM2.5', 'TMP'] This is due to the API from the government tends to fail when doing a lot of consecutive calls.\n",
    "Then save each data frame we get into a csv file:\n",
    "params_and_stations_XX.to_csv('params_stations_index_XX.csv', index=False)\n",
    "\n",
    "Once we have finished making the calls, we keep the results in a csv file to make a later use of them.\n"
   ]
  },
  {
   "cell_type": "code",
   "execution_count": 22,
   "metadata": {
    "collapsed": true
   },
   "outputs": [],
   "source": [
    "# Save the files\n",
    "if guard == 1:\n",
    "    params_stations_index_co.to_csv('params_stations_index_co.csv', index=False)\n",
    "    params_stations_index_no2.to_csv('params_stations_index_no2.csv', index=False, header=None)\n",
    "    params_stations_index_o3.to_csv('params_stations_index_o3.csv', index=False)\n",
    "    params_stations_index_pm2.to_csv('params_stations_index_pm2.csv', index=False, header=None)\n",
    "    params_stations_index_pm10.to_csv('params_stations_index_pm10.csv', index=False)\n",
    "    params_stations_index_so2.to_csv('params_stations_index_so2.csv', index=False, header=None)\n",
    "    params_stations_index_tmp.to_csv('params_stations_index_tmp.csv', index=False, header=None)"
   ]
  },
  {
   "cell_type": "markdown",
   "metadata": {},
   "source": [
    "***"
   ]
  },
  {
   "cell_type": "markdown",
   "metadata": {},
   "source": [
    "## Setup Stations and Parameters measured."
   ]
  },
  {
   "cell_type": "code",
   "execution_count": 23,
   "metadata": {
    "collapsed": true
   },
   "outputs": [],
   "source": [
    "# New Dependencies\n",
    "from pathlib import Path\n",
    "import json"
   ]
  },
  {
   "cell_type": "code",
   "execution_count": 24,
   "metadata": {
    "collapsed": true
   },
   "outputs": [],
   "source": [
    "for page in range(1,650):\n",
    "    filename = 'page_%i_sinaica_mediciones.json'%page\n",
    "    filename = '/mediciones_sinaica_json/'+filename"
   ]
  },
  {
   "cell_type": "code",
   "execution_count": 25,
   "metadata": {},
   "outputs": [
    {
     "data": {
      "text/plain": [
       "parametro       178\n",
       "estacionesid    178\n",
       "dtype: int64"
      ]
     },
     "execution_count": 25,
     "metadata": {},
     "output_type": "execute_result"
    }
   ],
   "source": [
    "# Retrieve stations csv file.\n",
    "co_measured = 'Resources/params_stations_index_co.csv'\n",
    "no2_measured = 'Resources/params_stations_index_no2.csv'\n",
    "o3_measured = 'Resources/params_stations_index_o3.csv'\n",
    "pm2_measured = 'Resources/params_stations_index_pm2.csv'\n",
    "pm10_measured = 'Resources/params_stations_index_pm10.csv'\n",
    "so2_measured = 'Resources/params_stations_index_so2.csv'\n",
    "tmp_measured = 'Resources/params_stations_index_tmp.csv'\n",
    "\n",
    "co_measured_df = pd.read_csv(co_measured, encoding=\"ISO-8859-1\")\n",
    "no2_measured_df = pd.read_csv(no2_measured, encoding=\"ISO-8859-1\")\n",
    "o3_measured_df = pd.read_csv(o3_measured, encoding=\"ISO-8859-1\")\n",
    "pm2_measured_df = pd.read_csv(pm2_measured, encoding=\"ISO-8859-1\")\n",
    "pm10_measured_df = pd.read_csv(pm10_measured, encoding=\"ISO-8859-1\")\n",
    "so2_measured_df = pd.read_csv(so2_measured, encoding=\"ISO-8859-1\")\n",
    "tmp_measured_df = pd.read_csv(tmp_measured, encoding=\"ISO-8859-1\")\n",
    "\n",
    "co_measured_df = co_measured_df[['parametro', 'estacionesid']]\n",
    "no2_measured_df = no2_measured_df[['parametro', 'estacionesid']]\n",
    "o3_measured_df = o3_measured_df[['parametro', 'estacionesid']]\n",
    "pm2_measured_df = pm2_measured_df[['parametro', 'estacionesid']]\n",
    "pm10_measured_df = pm10_measured_df[['parametro', 'estacionesid']]\n",
    "so2_measured_df = so2_measured_df[['parametro', 'estacionesid']]\n",
    "tmp_measured_df = tmp_measured_df[['parametro', 'estacionesid']]\n",
    "\n",
    "# Concatenate all data in a single one.\n",
    "stations_df_full = pd.concat([co_measured_df, no2_measured_df], ignore_index=True)\n",
    "stations_df_full = pd.concat([stations_df_full, o3_measured_df], ignore_index=True)\n",
    "stations_df_full = pd.concat([stations_df_full, pm2_measured_df], ignore_index=True)\n",
    "stations_df_full = pd.concat([stations_df_full, pm10_measured_df], ignore_index=True)\n",
    "stations_df_full = pd.concat([stations_df_full, so2_measured_df], ignore_index=True)\n",
    "stations_df_full = pd.concat([stations_df_full, tmp_measured_df], ignore_index=True)\n",
    "stations_df_full.count()"
   ]
  },
  {
   "cell_type": "code",
   "execution_count": 26,
   "metadata": {},
   "outputs": [
    {
     "data": {
      "text/html": [
       "<div>\n",
       "<style>\n",
       "    .dataframe thead tr:only-child th {\n",
       "        text-align: right;\n",
       "    }\n",
       "\n",
       "    .dataframe thead th {\n",
       "        text-align: left;\n",
       "    }\n",
       "\n",
       "    .dataframe tbody tr th {\n",
       "        vertical-align: top;\n",
       "    }\n",
       "</style>\n",
       "<table border=\"1\" class=\"dataframe\">\n",
       "  <thead>\n",
       "    <tr style=\"text-align: right;\">\n",
       "      <th></th>\n",
       "      <th>Parameter</th>\n",
       "      <th>id</th>\n",
       "    </tr>\n",
       "  </thead>\n",
       "  <tbody>\n",
       "    <tr>\n",
       "      <th>0</th>\n",
       "      <td>CO</td>\n",
       "      <td>240</td>\n",
       "    </tr>\n",
       "    <tr>\n",
       "      <th>1</th>\n",
       "      <td>CO</td>\n",
       "      <td>242</td>\n",
       "    </tr>\n",
       "    <tr>\n",
       "      <th>2</th>\n",
       "      <td>CO</td>\n",
       "      <td>243</td>\n",
       "    </tr>\n",
       "    <tr>\n",
       "      <th>3</th>\n",
       "      <td>CO</td>\n",
       "      <td>244</td>\n",
       "    </tr>\n",
       "    <tr>\n",
       "      <th>4</th>\n",
       "      <td>CO</td>\n",
       "      <td>245</td>\n",
       "    </tr>\n",
       "  </tbody>\n",
       "</table>\n",
       "</div>"
      ],
      "text/plain": [
       "  Parameter   id\n",
       "0        CO  240\n",
       "1        CO  242\n",
       "2        CO  243\n",
       "3        CO  244\n",
       "4        CO  245"
      ]
     },
     "execution_count": 26,
     "metadata": {},
     "output_type": "execute_result"
    }
   ],
   "source": [
    "# Get the station id and the paramenter from the read csv files. This is one lecture of each\n",
    "# parameter from each station who reads that parameter.\n",
    "stations_df_full = stations_df_full.rename(columns={'parametro' : 'Parameter',\n",
    "                                                    'estacionesid' : 'id'\n",
    "})\n",
    "stations_df_full.head()"
   ]
  },
  {
   "cell_type": "code",
   "execution_count": 27,
   "metadata": {},
   "outputs": [
    {
     "data": {
      "text/plain": [
       "Parameter    178\n",
       "id           178\n",
       "dtype: int64"
      ]
     },
     "execution_count": 27,
     "metadata": {},
     "output_type": "execute_result"
    }
   ],
   "source": [
    "stations_df_full.count()"
   ]
  },
  {
   "cell_type": "code",
   "execution_count": null,
   "metadata": {
    "collapsed": true
   },
   "outputs": [],
   "source": []
  },
  {
   "cell_type": "code",
   "execution_count": 41,
   "metadata": {},
   "outputs": [
    {
     "data": {
      "text/html": [
       "<div>\n",
       "<style>\n",
       "    .dataframe thead tr:only-child th {\n",
       "        text-align: right;\n",
       "    }\n",
       "\n",
       "    .dataframe thead th {\n",
       "        text-align: left;\n",
       "    }\n",
       "\n",
       "    .dataframe tbody tr th {\n",
       "        vertical-align: top;\n",
       "    }\n",
       "</style>\n",
       "<table border=\"1\" class=\"dataframe\">\n",
       "  <thead>\n",
       "    <tr style=\"text-align: right;\">\n",
       "      <th></th>\n",
       "      <th>id</th>\n",
       "      <th>Parameter</th>\n",
       "      <th>Parameters_str</th>\n",
       "    </tr>\n",
       "  </thead>\n",
       "  <tbody>\n",
       "    <tr>\n",
       "      <th>0</th>\n",
       "      <td>240</td>\n",
       "      <td>[CO, NO2, O3, PM10, SO2]</td>\n",
       "      <td>CO, NO2, O3, PM10, SO2</td>\n",
       "    </tr>\n",
       "    <tr>\n",
       "      <th>1</th>\n",
       "      <td>241</td>\n",
       "      <td>[O3, PM2.5, TMP]</td>\n",
       "      <td>O3, PM2.5, TMP</td>\n",
       "    </tr>\n",
       "    <tr>\n",
       "      <th>2</th>\n",
       "      <td>242</td>\n",
       "      <td>[CO, NO2, O3, PM2.5, PM10, SO2, TMP]</td>\n",
       "      <td>CO, NO2, O3, PM2.5, PM10, SO2, TMP</td>\n",
       "    </tr>\n",
       "    <tr>\n",
       "      <th>3</th>\n",
       "      <td>243</td>\n",
       "      <td>[CO, NO2, O3, SO2]</td>\n",
       "      <td>CO, NO2, O3, SO2</td>\n",
       "    </tr>\n",
       "    <tr>\n",
       "      <th>4</th>\n",
       "      <td>244</td>\n",
       "      <td>[CO, NO2, O3, PM2.5, PM10, SO2]</td>\n",
       "      <td>CO, NO2, O3, PM2.5, PM10, SO2</td>\n",
       "    </tr>\n",
       "  </tbody>\n",
       "</table>\n",
       "</div>"
      ],
      "text/plain": [
       "    id                             Parameter  \\\n",
       "0  240              [CO, NO2, O3, PM10, SO2]   \n",
       "1  241                      [O3, PM2.5, TMP]   \n",
       "2  242  [CO, NO2, O3, PM2.5, PM10, SO2, TMP]   \n",
       "3  243                    [CO, NO2, O3, SO2]   \n",
       "4  244       [CO, NO2, O3, PM2.5, PM10, SO2]   \n",
       "\n",
       "                       Parameters_str  \n",
       "0              CO, NO2, O3, PM10, SO2  \n",
       "1                      O3, PM2.5, TMP  \n",
       "2  CO, NO2, O3, PM2.5, PM10, SO2, TMP  \n",
       "3                    CO, NO2, O3, SO2  \n",
       "4       CO, NO2, O3, PM2.5, PM10, SO2  "
      ]
     },
     "execution_count": 41,
     "metadata": {},
     "output_type": "execute_result"
    }
   ],
   "source": [
    "params_estaciones = stations_df_full.groupby('id').Parameter.unique().reset_index()\n",
    "params_estaciones['Parameters_str'] = params_estaciones.Parameter.map(lambda x: ', '.join(x))\n",
    "params_estaciones.head()"
   ]
  },
  {
   "cell_type": "code",
   "execution_count": null,
   "metadata": {
    "collapsed": true
   },
   "outputs": [],
   "source": []
  },
  {
   "cell_type": "code",
   "execution_count": null,
   "metadata": {
    "collapsed": true
   },
   "outputs": [],
   "source": []
  },
  {
   "cell_type": "code",
   "execution_count": null,
   "metadata": {
    "collapsed": true
   },
   "outputs": [],
   "source": []
  },
  {
   "cell_type": "markdown",
   "metadata": {},
   "source": [
    "Remembering we have **id_names_df** as:\n",
    "<img src=\"Images/id_names_df.png\" alt=\"Active Stations DF\" title=\"ID & Names Stations DF\" />"
   ]
  },
  {
   "cell_type": "markdown",
   "metadata": {},
   "source": [
    "#### Merging DataFrames to get Names and Parameters"
   ]
  },
  {
   "cell_type": "code",
   "execution_count": 29,
   "metadata": {},
   "outputs": [
    {
     "data": {
      "text/plain": [
       "id           178\n",
       "Name         178\n",
       "Parameter    178\n",
       "dtype: int64"
      ]
     },
     "execution_count": 29,
     "metadata": {},
     "output_type": "execute_result"
    }
   ],
   "source": [
    "merging_id_df = id_names_df.merge(stations_df_full)\n",
    "merging_id_df.head()\n",
    "merging_id_df.count()"
   ]
  },
  {
   "cell_type": "markdown",
   "metadata": {},
   "source": [
    "#### Merging to get Locations\n",
    "Remeber that **operating_stations_df** is like:<br>\n",
    "\n",
    "\n",
    "<img src=\"Images/operating_stations_df.png\" alt=\"Active Stations DF\" title=\"Active Stations DF\" />\n"
   ]
  },
  {
   "cell_type": "code",
   "execution_count": 30,
   "metadata": {},
   "outputs": [
    {
     "data": {
      "text/plain": [
       "Name         178\n",
       "Lng          178\n",
       "Lat          178\n",
       "Parameter    178\n",
       "id           178\n",
       "dtype: int64"
      ]
     },
     "execution_count": 30,
     "metadata": {},
     "output_type": "execute_result"
    }
   ],
   "source": [
    "# Create new DF with Nombre, Lat, Lng, Parametro, id\n",
    "merging_names_df = merging_id_df.merge(operating_stations_df)\n",
    "merging_names_df = merging_names_df[['Name', 'Lng', 'Lat','Parameter', 'id']]\n",
    "merging_names_df.head()\n",
    "merging_names_df.count()"
   ]
  },
  {
   "cell_type": "code",
   "execution_count": 31,
   "metadata": {},
   "outputs": [
    {
     "data": {
      "text/html": [
       "<div>\n",
       "<style>\n",
       "    .dataframe thead tr:only-child th {\n",
       "        text-align: right;\n",
       "    }\n",
       "\n",
       "    .dataframe thead th {\n",
       "        text-align: left;\n",
       "    }\n",
       "\n",
       "    .dataframe tbody tr th {\n",
       "        vertical-align: top;\n",
       "    }\n",
       "</style>\n",
       "<table border=\"1\" class=\"dataframe\">\n",
       "  <thead>\n",
       "    <tr style=\"text-align: right;\">\n",
       "      <th>Parameter</th>\n",
       "      <th>CO</th>\n",
       "      <th>NO2</th>\n",
       "      <th>O3</th>\n",
       "      <th>PM10</th>\n",
       "      <th>PM2.5</th>\n",
       "      <th>SO2</th>\n",
       "      <th>TMP</th>\n",
       "    </tr>\n",
       "    <tr>\n",
       "      <th>id</th>\n",
       "      <th></th>\n",
       "      <th></th>\n",
       "      <th></th>\n",
       "      <th></th>\n",
       "      <th></th>\n",
       "      <th></th>\n",
       "      <th></th>\n",
       "    </tr>\n",
       "  </thead>\n",
       "  <tbody>\n",
       "    <tr>\n",
       "      <th>240</th>\n",
       "      <td>1</td>\n",
       "      <td>1</td>\n",
       "      <td>1</td>\n",
       "      <td>1</td>\n",
       "      <td>0</td>\n",
       "      <td>1</td>\n",
       "      <td>0</td>\n",
       "    </tr>\n",
       "    <tr>\n",
       "      <th>241</th>\n",
       "      <td>0</td>\n",
       "      <td>0</td>\n",
       "      <td>1</td>\n",
       "      <td>0</td>\n",
       "      <td>1</td>\n",
       "      <td>0</td>\n",
       "      <td>1</td>\n",
       "    </tr>\n",
       "    <tr>\n",
       "      <th>242</th>\n",
       "      <td>1</td>\n",
       "      <td>1</td>\n",
       "      <td>1</td>\n",
       "      <td>1</td>\n",
       "      <td>1</td>\n",
       "      <td>1</td>\n",
       "      <td>1</td>\n",
       "    </tr>\n",
       "    <tr>\n",
       "      <th>243</th>\n",
       "      <td>1</td>\n",
       "      <td>1</td>\n",
       "      <td>1</td>\n",
       "      <td>0</td>\n",
       "      <td>0</td>\n",
       "      <td>1</td>\n",
       "      <td>0</td>\n",
       "    </tr>\n",
       "    <tr>\n",
       "      <th>244</th>\n",
       "      <td>1</td>\n",
       "      <td>1</td>\n",
       "      <td>1</td>\n",
       "      <td>1</td>\n",
       "      <td>1</td>\n",
       "      <td>1</td>\n",
       "      <td>0</td>\n",
       "    </tr>\n",
       "  </tbody>\n",
       "</table>\n",
       "</div>"
      ],
      "text/plain": [
       "Parameter  CO  NO2  O3  PM10  PM2.5  SO2  TMP\n",
       "id                                           \n",
       "240         1    1   1     1      0    1    0\n",
       "241         0    0   1     0      1    0    1\n",
       "242         1    1   1     1      1    1    1\n",
       "243         1    1   1     0      0    1    0\n",
       "244         1    1   1     1      1    1    0"
      ]
     },
     "execution_count": 31,
     "metadata": {},
     "output_type": "execute_result"
    }
   ],
   "source": [
    "# Set id as an index and Parameters as columns.\n",
    "id_df = pd.crosstab(merging_names_df['id'], merging_names_df['Parameter'].fillna('n/a'))\n",
    "id_df.head()"
   ]
  },
  {
   "cell_type": "code",
   "execution_count": 32,
   "metadata": {},
   "outputs": [
    {
     "data": {
      "text/html": [
       "<div>\n",
       "<style>\n",
       "    .dataframe thead tr:only-child th {\n",
       "        text-align: right;\n",
       "    }\n",
       "\n",
       "    .dataframe thead th {\n",
       "        text-align: left;\n",
       "    }\n",
       "\n",
       "    .dataframe tbody tr th {\n",
       "        vertical-align: top;\n",
       "    }\n",
       "</style>\n",
       "<table border=\"1\" class=\"dataframe\">\n",
       "  <thead>\n",
       "    <tr style=\"text-align: right;\">\n",
       "      <th>Parameter</th>\n",
       "      <th>id</th>\n",
       "      <th>CO</th>\n",
       "      <th>NO2</th>\n",
       "      <th>O3</th>\n",
       "      <th>PM10</th>\n",
       "      <th>PM2.5</th>\n",
       "      <th>SO2</th>\n",
       "      <th>TMP</th>\n",
       "    </tr>\n",
       "  </thead>\n",
       "  <tbody>\n",
       "    <tr>\n",
       "      <th>0</th>\n",
       "      <td>240</td>\n",
       "      <td>1</td>\n",
       "      <td>1</td>\n",
       "      <td>1</td>\n",
       "      <td>1</td>\n",
       "      <td>0</td>\n",
       "      <td>1</td>\n",
       "      <td>0</td>\n",
       "    </tr>\n",
       "    <tr>\n",
       "      <th>1</th>\n",
       "      <td>241</td>\n",
       "      <td>0</td>\n",
       "      <td>0</td>\n",
       "      <td>1</td>\n",
       "      <td>0</td>\n",
       "      <td>1</td>\n",
       "      <td>0</td>\n",
       "      <td>1</td>\n",
       "    </tr>\n",
       "    <tr>\n",
       "      <th>2</th>\n",
       "      <td>242</td>\n",
       "      <td>1</td>\n",
       "      <td>1</td>\n",
       "      <td>1</td>\n",
       "      <td>1</td>\n",
       "      <td>1</td>\n",
       "      <td>1</td>\n",
       "      <td>1</td>\n",
       "    </tr>\n",
       "    <tr>\n",
       "      <th>3</th>\n",
       "      <td>243</td>\n",
       "      <td>1</td>\n",
       "      <td>1</td>\n",
       "      <td>1</td>\n",
       "      <td>0</td>\n",
       "      <td>0</td>\n",
       "      <td>1</td>\n",
       "      <td>0</td>\n",
       "    </tr>\n",
       "    <tr>\n",
       "      <th>4</th>\n",
       "      <td>244</td>\n",
       "      <td>1</td>\n",
       "      <td>1</td>\n",
       "      <td>1</td>\n",
       "      <td>1</td>\n",
       "      <td>1</td>\n",
       "      <td>1</td>\n",
       "      <td>0</td>\n",
       "    </tr>\n",
       "  </tbody>\n",
       "</table>\n",
       "</div>"
      ],
      "text/plain": [
       "Parameter   id  CO  NO2  O3  PM10  PM2.5  SO2  TMP\n",
       "0          240   1    1   1     1      0    1    0\n",
       "1          241   0    0   1     0      1    0    1\n",
       "2          242   1    1   1     1      1    1    1\n",
       "3          243   1    1   1     0      0    1    0\n",
       "4          244   1    1   1     1      1    1    0"
      ]
     },
     "execution_count": 32,
     "metadata": {},
     "output_type": "execute_result"
    }
   ],
   "source": [
    "# Join parameters for each id station. Reset index for id.\n",
    "parameters_df = id_df.reset_index()\n",
    "parameters_df.head()"
   ]
  },
  {
   "cell_type": "code",
   "execution_count": 33,
   "metadata": {},
   "outputs": [
    {
     "data": {
      "text/html": [
       "<div>\n",
       "<style>\n",
       "    .dataframe thead tr:only-child th {\n",
       "        text-align: right;\n",
       "    }\n",
       "\n",
       "    .dataframe thead th {\n",
       "        text-align: left;\n",
       "    }\n",
       "\n",
       "    .dataframe tbody tr th {\n",
       "        vertical-align: top;\n",
       "    }\n",
       "</style>\n",
       "<table border=\"1\" class=\"dataframe\">\n",
       "  <thead>\n",
       "    <tr style=\"text-align: right;\">\n",
       "      <th></th>\n",
       "      <th>id</th>\n",
       "      <th>CO</th>\n",
       "      <th>NO2</th>\n",
       "      <th>O3</th>\n",
       "      <th>PM10</th>\n",
       "      <th>PM2.5</th>\n",
       "      <th>SO2</th>\n",
       "      <th>TMP</th>\n",
       "      <th>Name</th>\n",
       "      <th>Lng</th>\n",
       "      <th>Lat</th>\n",
       "      <th>Parameter</th>\n",
       "    </tr>\n",
       "  </thead>\n",
       "  <tbody>\n",
       "    <tr>\n",
       "      <th>0</th>\n",
       "      <td>240</td>\n",
       "      <td>1</td>\n",
       "      <td>1</td>\n",
       "      <td>1</td>\n",
       "      <td>1</td>\n",
       "      <td>0</td>\n",
       "      <td>1</td>\n",
       "      <td>0</td>\n",
       "      <td>Acolman</td>\n",
       "      <td>-98.9122</td>\n",
       "      <td>19.6356</td>\n",
       "      <td>CO</td>\n",
       "    </tr>\n",
       "    <tr>\n",
       "      <th>1</th>\n",
       "      <td>240</td>\n",
       "      <td>1</td>\n",
       "      <td>1</td>\n",
       "      <td>1</td>\n",
       "      <td>1</td>\n",
       "      <td>0</td>\n",
       "      <td>1</td>\n",
       "      <td>0</td>\n",
       "      <td>Acolman</td>\n",
       "      <td>-98.9122</td>\n",
       "      <td>19.6356</td>\n",
       "      <td>NO2</td>\n",
       "    </tr>\n",
       "    <tr>\n",
       "      <th>2</th>\n",
       "      <td>240</td>\n",
       "      <td>1</td>\n",
       "      <td>1</td>\n",
       "      <td>1</td>\n",
       "      <td>1</td>\n",
       "      <td>0</td>\n",
       "      <td>1</td>\n",
       "      <td>0</td>\n",
       "      <td>Acolman</td>\n",
       "      <td>-98.9122</td>\n",
       "      <td>19.6356</td>\n",
       "      <td>O3</td>\n",
       "    </tr>\n",
       "    <tr>\n",
       "      <th>3</th>\n",
       "      <td>240</td>\n",
       "      <td>1</td>\n",
       "      <td>1</td>\n",
       "      <td>1</td>\n",
       "      <td>1</td>\n",
       "      <td>0</td>\n",
       "      <td>1</td>\n",
       "      <td>0</td>\n",
       "      <td>Acolman</td>\n",
       "      <td>-98.9122</td>\n",
       "      <td>19.6356</td>\n",
       "      <td>PM10</td>\n",
       "    </tr>\n",
       "    <tr>\n",
       "      <th>4</th>\n",
       "      <td>240</td>\n",
       "      <td>1</td>\n",
       "      <td>1</td>\n",
       "      <td>1</td>\n",
       "      <td>1</td>\n",
       "      <td>0</td>\n",
       "      <td>1</td>\n",
       "      <td>0</td>\n",
       "      <td>Acolman</td>\n",
       "      <td>-98.9122</td>\n",
       "      <td>19.6356</td>\n",
       "      <td>SO2</td>\n",
       "    </tr>\n",
       "  </tbody>\n",
       "</table>\n",
       "</div>"
      ],
      "text/plain": [
       "    id  CO  NO2  O3  PM10  PM2.5  SO2  TMP     Name      Lng      Lat  \\\n",
       "0  240   1    1   1     1      0    1    0  Acolman -98.9122  19.6356   \n",
       "1  240   1    1   1     1      0    1    0  Acolman -98.9122  19.6356   \n",
       "2  240   1    1   1     1      0    1    0  Acolman -98.9122  19.6356   \n",
       "3  240   1    1   1     1      0    1    0  Acolman -98.9122  19.6356   \n",
       "4  240   1    1   1     1      0    1    0  Acolman -98.9122  19.6356   \n",
       "\n",
       "  Parameter  \n",
       "0        CO  \n",
       "1       NO2  \n",
       "2        O3  \n",
       "3      PM10  \n",
       "4       SO2  "
      ]
     },
     "execution_count": 33,
     "metadata": {},
     "output_type": "execute_result"
    }
   ],
   "source": [
    "# GET the last form of the DataFrame. Drop Parameter as an index name. Set it as a column.\n",
    "final_stations_params_df = parameters_df.merge(merging_names_df)\n",
    "final_stations_params_df.head()"
   ]
  },
  {
   "cell_type": "code",
   "execution_count": null,
   "metadata": {
    "collapsed": true
   },
   "outputs": [],
   "source": []
  },
  {
   "cell_type": "code",
   "execution_count": 34,
   "metadata": {
    "collapsed": true
   },
   "outputs": [],
   "source": [
    "# Delete repeated rows keeping first occurence in column 'Nombre'\n",
    "final_stations_params_df.drop_duplicates(subset =\"Name\", keep = 'first', inplace = True) \n",
    "\n",
    "# Delete column 'Parametro'\n",
    "del final_stations_params_df['Parameter']"
   ]
  },
  {
   "cell_type": "code",
   "execution_count": 35,
   "metadata": {},
   "outputs": [
    {
     "data": {
      "text/html": [
       "<div>\n",
       "<style>\n",
       "    .dataframe thead tr:only-child th {\n",
       "        text-align: right;\n",
       "    }\n",
       "\n",
       "    .dataframe thead th {\n",
       "        text-align: left;\n",
       "    }\n",
       "\n",
       "    .dataframe tbody tr th {\n",
       "        vertical-align: top;\n",
       "    }\n",
       "</style>\n",
       "<table border=\"1\" class=\"dataframe\">\n",
       "  <thead>\n",
       "    <tr style=\"text-align: right;\">\n",
       "      <th></th>\n",
       "      <th>id</th>\n",
       "      <th>CO</th>\n",
       "      <th>NO2</th>\n",
       "      <th>O3</th>\n",
       "      <th>PM10</th>\n",
       "      <th>PM2.5</th>\n",
       "      <th>SO2</th>\n",
       "      <th>TMP</th>\n",
       "      <th>Name</th>\n",
       "      <th>Lng</th>\n",
       "      <th>Lat</th>\n",
       "    </tr>\n",
       "  </thead>\n",
       "  <tbody>\n",
       "    <tr>\n",
       "      <th>0</th>\n",
       "      <td>240</td>\n",
       "      <td>1</td>\n",
       "      <td>1</td>\n",
       "      <td>1</td>\n",
       "      <td>1</td>\n",
       "      <td>0</td>\n",
       "      <td>1</td>\n",
       "      <td>0</td>\n",
       "      <td>Acolman</td>\n",
       "      <td>-98.9122</td>\n",
       "      <td>19.6356</td>\n",
       "    </tr>\n",
       "    <tr>\n",
       "      <th>5</th>\n",
       "      <td>241</td>\n",
       "      <td>0</td>\n",
       "      <td>0</td>\n",
       "      <td>1</td>\n",
       "      <td>0</td>\n",
       "      <td>1</td>\n",
       "      <td>0</td>\n",
       "      <td>1</td>\n",
       "      <td>Ajusco</td>\n",
       "      <td>-99.1628</td>\n",
       "      <td>19.1543</td>\n",
       "    </tr>\n",
       "    <tr>\n",
       "      <th>8</th>\n",
       "      <td>242</td>\n",
       "      <td>1</td>\n",
       "      <td>1</td>\n",
       "      <td>1</td>\n",
       "      <td>1</td>\n",
       "      <td>1</td>\n",
       "      <td>1</td>\n",
       "      <td>1</td>\n",
       "      <td>Ajusco Medio</td>\n",
       "      <td>-99.2078</td>\n",
       "      <td>19.2722</td>\n",
       "    </tr>\n",
       "    <tr>\n",
       "      <th>15</th>\n",
       "      <td>243</td>\n",
       "      <td>1</td>\n",
       "      <td>1</td>\n",
       "      <td>1</td>\n",
       "      <td>0</td>\n",
       "      <td>0</td>\n",
       "      <td>1</td>\n",
       "      <td>0</td>\n",
       "      <td>Atizapán</td>\n",
       "      <td>-99.2542</td>\n",
       "      <td>19.5772</td>\n",
       "    </tr>\n",
       "    <tr>\n",
       "      <th>19</th>\n",
       "      <td>244</td>\n",
       "      <td>1</td>\n",
       "      <td>1</td>\n",
       "      <td>1</td>\n",
       "      <td>1</td>\n",
       "      <td>1</td>\n",
       "      <td>1</td>\n",
       "      <td>0</td>\n",
       "      <td>Camarones</td>\n",
       "      <td>-99.17</td>\n",
       "      <td>19.4686</td>\n",
       "    </tr>\n",
       "  </tbody>\n",
       "</table>\n",
       "</div>"
      ],
      "text/plain": [
       "     id  CO  NO2  O3  PM10  PM2.5  SO2  TMP          Name      Lng      Lat\n",
       "0   240   1    1   1     1      0    1    0       Acolman -98.9122  19.6356\n",
       "5   241   0    0   1     0      1    0    1        Ajusco -99.1628  19.1543\n",
       "8   242   1    1   1     1      1    1    1  Ajusco Medio -99.2078  19.2722\n",
       "15  243   1    1   1     0      0    1    0      Atizapán -99.2542  19.5772\n",
       "19  244   1    1   1     1      1    1    0     Camarones   -99.17  19.4686"
      ]
     },
     "execution_count": 35,
     "metadata": {},
     "output_type": "execute_result"
    }
   ],
   "source": [
    "# Total number of rows is 31, this is all stations with reading parameters\n",
    "final_stations_params_df.head()"
   ]
  },
  {
   "cell_type": "code",
   "execution_count": 36,
   "metadata": {},
   "outputs": [
    {
     "data": {
      "text/plain": [
       "id       31\n",
       "CO       31\n",
       "NO2      31\n",
       "O3       31\n",
       "PM10     31\n",
       "PM2.5    31\n",
       "SO2      31\n",
       "TMP      31\n",
       "Name     31\n",
       "Lng      31\n",
       "Lat      31\n",
       "dtype: int64"
      ]
     },
     "execution_count": 36,
     "metadata": {},
     "output_type": "execute_result"
    }
   ],
   "source": [
    "final_stations_params_df.count()"
   ]
  },
  {
   "cell_type": "code",
   "execution_count": 37,
   "metadata": {},
   "outputs": [
    {
     "data": {
      "text/html": [
       "<div>\n",
       "<style>\n",
       "    .dataframe thead tr:only-child th {\n",
       "        text-align: right;\n",
       "    }\n",
       "\n",
       "    .dataframe thead th {\n",
       "        text-align: left;\n",
       "    }\n",
       "\n",
       "    .dataframe tbody tr th {\n",
       "        vertical-align: top;\n",
       "    }\n",
       "</style>\n",
       "<table border=\"1\" class=\"dataframe\">\n",
       "  <thead>\n",
       "    <tr style=\"text-align: right;\">\n",
       "      <th></th>\n",
       "      <th>id</th>\n",
       "      <th>Name</th>\n",
       "      <th>Lat</th>\n",
       "      <th>Lng</th>\n",
       "      <th>CO</th>\n",
       "      <th>NO2</th>\n",
       "      <th>O3</th>\n",
       "      <th>PM10</th>\n",
       "      <th>PM2.5</th>\n",
       "      <th>SO2</th>\n",
       "      <th>TMP</th>\n",
       "    </tr>\n",
       "  </thead>\n",
       "  <tbody>\n",
       "    <tr>\n",
       "      <th>0</th>\n",
       "      <td>240</td>\n",
       "      <td>Acolman</td>\n",
       "      <td>19.6356</td>\n",
       "      <td>-98.9122</td>\n",
       "      <td>1</td>\n",
       "      <td>1</td>\n",
       "      <td>1</td>\n",
       "      <td>1</td>\n",
       "      <td>0</td>\n",
       "      <td>1</td>\n",
       "      <td>0</td>\n",
       "    </tr>\n",
       "    <tr>\n",
       "      <th>5</th>\n",
       "      <td>241</td>\n",
       "      <td>Ajusco</td>\n",
       "      <td>19.1543</td>\n",
       "      <td>-99.1628</td>\n",
       "      <td>0</td>\n",
       "      <td>0</td>\n",
       "      <td>1</td>\n",
       "      <td>0</td>\n",
       "      <td>1</td>\n",
       "      <td>0</td>\n",
       "      <td>1</td>\n",
       "    </tr>\n",
       "    <tr>\n",
       "      <th>8</th>\n",
       "      <td>242</td>\n",
       "      <td>Ajusco Medio</td>\n",
       "      <td>19.2722</td>\n",
       "      <td>-99.2078</td>\n",
       "      <td>1</td>\n",
       "      <td>1</td>\n",
       "      <td>1</td>\n",
       "      <td>1</td>\n",
       "      <td>1</td>\n",
       "      <td>1</td>\n",
       "      <td>1</td>\n",
       "    </tr>\n",
       "    <tr>\n",
       "      <th>15</th>\n",
       "      <td>243</td>\n",
       "      <td>Atizapán</td>\n",
       "      <td>19.5772</td>\n",
       "      <td>-99.2542</td>\n",
       "      <td>1</td>\n",
       "      <td>1</td>\n",
       "      <td>1</td>\n",
       "      <td>0</td>\n",
       "      <td>0</td>\n",
       "      <td>1</td>\n",
       "      <td>0</td>\n",
       "    </tr>\n",
       "    <tr>\n",
       "      <th>19</th>\n",
       "      <td>244</td>\n",
       "      <td>Camarones</td>\n",
       "      <td>19.4686</td>\n",
       "      <td>-99.17</td>\n",
       "      <td>1</td>\n",
       "      <td>1</td>\n",
       "      <td>1</td>\n",
       "      <td>1</td>\n",
       "      <td>1</td>\n",
       "      <td>1</td>\n",
       "      <td>0</td>\n",
       "    </tr>\n",
       "  </tbody>\n",
       "</table>\n",
       "</div>"
      ],
      "text/plain": [
       "     id          Name      Lat      Lng  CO  NO2  O3  PM10  PM2.5  SO2  TMP\n",
       "0   240       Acolman  19.6356 -98.9122   1    1   1     1      0    1    0\n",
       "5   241        Ajusco  19.1543 -99.1628   0    0   1     0      1    0    1\n",
       "8   242  Ajusco Medio  19.2722 -99.2078   1    1   1     1      1    1    1\n",
       "15  243      Atizapán  19.5772 -99.2542   1    1   1     0      0    1    0\n",
       "19  244     Camarones  19.4686   -99.17   1    1   1     1      1    1    0"
      ]
     },
     "execution_count": 37,
     "metadata": {},
     "output_type": "execute_result"
    }
   ],
   "source": [
    "# Reorder columns to get a better understanding and better appeal.\n",
    "final_stations_params_df = final_stations_params_df[['id', 'Name', 'Lat', 'Lng', 'CO', 'NO2', 'O3', 'PM10', 'PM2.5', 'SO2', 'TMP']]\n",
    "final_stations_params_df.head()"
   ]
  },
  {
   "cell_type": "markdown",
   "metadata": {},
   "source": [
    "Final Stations Params DataFrame indicates, id, name, latitude and longitude for each operating station.\n",
    "Also it tells which parameter is read by each station: 1 means it reads the parameter."
   ]
  },
  {
   "cell_type": "markdown",
   "metadata": {},
   "source": [
    "***"
   ]
  },
  {
   "cell_type": "markdown",
   "metadata": {},
   "source": [
    "## Mapping Stations: location and parameters"
   ]
  },
  {
   "cell_type": "code",
   "execution_count": 38,
   "metadata": {
    "collapsed": true
   },
   "outputs": [],
   "source": [
    "# Dependencies for folium module.\n",
    "import folium\n",
    "m = folium.Map(location=[19.3911668, -99.4238175])"
   ]
  },
  {
   "cell_type": "code",
   "execution_count": 39,
   "metadata": {
    "collapsed": true,
    "scrolled": true
   },
   "outputs": [],
   "source": [
    "centro_lat, centro_lon = 19.3911668, -99.4238175\n",
    "folium_map = folium.Map(location=[centro_lat, centro_lon], zoom_start = 5, tiles='cartodb positron')\n",
    "\n",
    "for i, row in final_stations_params_df.iterrows():\n",
    "    params = []\n",
    "    \n",
    "    if row.CO == 1:\n",
    "        params.append('CO')\n",
    "    if row.NO2 == 1:\n",
    "        params.append('NO2')\n",
    "    if row.O3 == 1:\n",
    "        params.append('O3')\n",
    "    if row.PM10 == 1:\n",
    "        params.append('PM10')\n",
    "    if row['PM2.5'] == 1:\n",
    "        params.append('PM2.5')\n",
    "    if row.SO2 == 1:\n",
    "        params.append('SO2')\n",
    "    if row.TMP == 1:\n",
    "        params.append('TMP')\n",
    "    \n",
    "    \n",
    "    popup_text = f'<b> Nombre: </b> {row.Name} <br> \\\n",
    "                  <b> Latitud: </b> {row.Lat:.5f} <br> \\\n",
    "                  <b> Longitud: </b> {row.Lng:.5f} <br> \\\n",
    "                  <b> Parametros: </b>   {params}'\n",
    "    folium.CircleMarker(location=[row.Lat, row.Lng], radius=5,\n",
    "                       tooltip=popup_text, fill=True, fill_opacity=0.4).add_to(folium_map)\n",
    "\n",
    "folium_map.save('all_stations.html')"
   ]
  },
  {
   "cell_type": "code",
   "execution_count": 40,
   "metadata": {},
   "outputs": [
    {
     "data": {
      "text/html": [
       "<div style=\"width:100%;\"><div style=\"position:relative;width:100%;height:0;padding-bottom:60%;\"><iframe src=\"data:text/html;charset=utf-8;base64,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\" style=\"position:absolute;width:100%;height:100%;left:0;top:0;border:none !important;\" allowfullscreen webkitallowfullscreen mozallowfullscreen></iframe></div></div>"
      ],
      "text/plain": [
       "<folium.folium.Map at 0x7faea4b8bd30>"
      ]
     },
     "execution_count": 40,
     "metadata": {},
     "output_type": "execute_result"
    }
   ],
   "source": [
    "folium_map"
   ]
  },
  {
   "cell_type": "code",
   "execution_count": null,
   "metadata": {
    "collapsed": true
   },
   "outputs": [],
   "source": []
  },
  {
   "cell_type": "code",
   "execution_count": null,
   "metadata": {
    "collapsed": true
   },
   "outputs": [],
   "source": []
  }
 ],
 "metadata": {
  "kernelspec": {
   "display_name": "Python 3",
   "language": "python",
   "name": "python3"
  },
  "language_info": {
   "codemirror_mode": {
    "name": "ipython",
    "version": 3
   },
   "file_extension": ".py",
   "mimetype": "text/x-python",
   "name": "python",
   "nbconvert_exporter": "python",
   "pygments_lexer": "ipython3",
   "version": "3.6.3"
  }
 },
 "nbformat": 4,
 "nbformat_minor": 2
}
