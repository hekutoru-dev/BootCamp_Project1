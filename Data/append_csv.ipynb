{
 "cells": [
  {
   "cell_type": "markdown",
   "metadata": {},
   "source": [
    "# Join different csv files into one DataFrame\n",
    "* Source: http://www.aire.cdmx.gob.mx/default.php?opc=%27aKBhnmI=%27&opcion=Zg=="
   ]
  },
  {
   "cell_type": "code",
   "execution_count": 1,
   "metadata": {
    "collapsed": true
   },
   "outputs": [],
   "source": [
    "import sys\n",
    "import numpy as np\n",
    "import matplotlib.pyplot as plt\n",
    "import csv\n",
    "import pandas as pd"
   ]
  },
  {
   "cell_type": "code",
   "execution_count": 2,
   "metadata": {},
   "outputs": [
    {
     "name": "stdout",
     "output_type": "stream",
     "text": [
      "./Contaminantes/contaminantes_1986.CSV\n",
      "./Contaminantes/contaminantes_1987.CSV\n",
      "./Contaminantes/contaminantes_1988.CSV\n",
      "./Contaminantes/contaminantes_1989.CSV\n",
      "./Contaminantes/contaminantes_1990.CSV\n",
      "./Contaminantes/contaminantes_1991.CSV\n",
      "./Contaminantes/contaminantes_1992.CSV\n",
      "./Contaminantes/contaminantes_1993.CSV\n",
      "./Contaminantes/contaminantes_1994.CSV\n",
      "./Contaminantes/contaminantes_1995.CSV\n",
      "./Contaminantes/contaminantes_1996.CSV\n",
      "./Contaminantes/contaminantes_1997.CSV\n",
      "./Contaminantes/contaminantes_1998.CSV\n",
      "./Contaminantes/contaminantes_1999.CSV\n",
      "./Contaminantes/contaminantes_2000.CSV\n",
      "./Contaminantes/contaminantes_2001.CSV\n",
      "./Contaminantes/contaminantes_2002.CSV\n",
      "./Contaminantes/contaminantes_2003.CSV\n",
      "./Contaminantes/contaminantes_2004.CSV\n",
      "./Contaminantes/contaminantes_2005.CSV\n",
      "./Contaminantes/contaminantes_2006.CSV\n",
      "./Contaminantes/contaminantes_2007.CSV\n",
      "./Contaminantes/contaminantes_2008.CSV\n",
      "./Contaminantes/contaminantes_2009.CSV\n",
      "./Contaminantes/contaminantes_2010.CSV\n",
      "./Contaminantes/contaminantes_2011.CSV\n",
      "./Contaminantes/contaminantes_2012.CSV\n",
      "./Contaminantes/contaminantes_2013.CSV\n",
      "./Contaminantes/contaminantes_2014.CSV\n",
      "./Contaminantes/contaminantes_2015.CSV\n",
      "./Contaminantes/contaminantes_2016.CSV\n",
      "./Contaminantes/contaminantes_2017.CSV\n",
      "./Contaminantes/contaminantes_2018.CSV\n",
      "./Contaminantes/contaminantes_2019.CSV\n"
     ]
    }
   ],
   "source": [
    "df = pd.DataFrame(columns=[\"date\", \"id_station\", \"id_parameter\", \"value\", \"unit\"])\n",
    "\n",
    "for y in range(1986,2020):\n",
    "                    year = str(y)\n",
    "                    filen=\"./Contaminantes/contaminantes_\"+year+\".CSV\"\n",
    "                    print(filen)\n",
    "                    reader = csv.reader(open(filen, \"rt\", encoding=\"ascii\"), delimiter=\",\")\n",
    "                    x = list(reader)\n",
    "                    x.pop(0)\n",
    "                    x.pop(0)\n",
    "                    x.pop(0)\n",
    "                    x.pop(0)\n",
    "                    x.pop(0)\n",
    "                    x.pop(0)\n",
    "                    x.pop(0)\n",
    "                    x.pop(0)\n",
    "                    x.pop(0)\n",
    "                    x.pop(0)\n",
    "                    x.pop(0)\n",
    "                    df = df.append(pd.DataFrame(x, columns=[\"date\", \"id_station\", \"id_parameter\", \"value\", \"unit\"]))\n",
    "                "
   ]
  },
  {
   "cell_type": "code",
   "execution_count": 3,
   "metadata": {},
   "outputs": [
    {
     "data": {
      "text/plain": [
       "38045736"
      ]
     },
     "execution_count": 3,
     "metadata": {},
     "output_type": "execute_result"
    }
   ],
   "source": [
    "len(df)"
   ]
  },
  {
   "cell_type": "code",
   "execution_count": null,
   "metadata": {
    "collapsed": true
   },
   "outputs": [],
   "source": []
  }
 ],
 "metadata": {
  "kernelspec": {
   "display_name": "Python 3",
   "language": "python",
   "name": "python3"
  },
  "language_info": {
   "codemirror_mode": {
    "name": "ipython",
    "version": 3
   },
   "file_extension": ".py",
   "mimetype": "text/x-python",
   "name": "python",
   "nbconvert_exporter": "python",
   "pygments_lexer": "ipython3",
   "version": "3.6.1"
  }
 },
 "nbformat": 4,
 "nbformat_minor": 2
}
